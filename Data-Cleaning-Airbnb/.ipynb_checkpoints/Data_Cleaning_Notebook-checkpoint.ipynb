{
 "cells": [
  {
   "cell_type": "markdown",
   "metadata": {},
   "source": [
    "# Data Cleaning: Airbnb Listings"
   ]
  },
  {
   "cell_type": "code",
   "execution_count": 2,
   "metadata": {},
   "outputs": [],
   "source": [
    "import pandas as pd\n",
    "import numpy as np\n",
    "import matplotlib\n",
    "import seaborn as sb\n",
    "import matplotlib.pyplot as plt\n",
    "import matplotlib.cm as cmx\n",
    "import matplotlib.colors as colors\n",
    "import math\n",
    "import pylab\n",
    "import scipy.stats as stats\n",
    "%matplotlib inline"
   ]
  },
  {
   "cell_type": "code",
   "execution_count": 3,
   "metadata": {},
   "outputs": [],
   "source": [
    "cols = [\n",
    "    'id',\n",
    "    'host_id',\n",
    "    'zipcode',\n",
    "    'property_type',\n",
    "    'room_type',\n",
    "    'accommodates',\n",
    "    'bedrooms',\n",
    "    'beds',\n",
    "    'bed_type',\n",
    "    'price',\n",
    "    'number_of_reviews',\n",
    "    'review_scores_rating',\n",
    "    'host_listing_count',\n",
    "    'availability_30',\n",
    "    'minimum_nights',\n",
    "    'bathrooms'\n",
    "]\n",
    "\n",
    "data = pd.read_csv('listings.csv', usecols=cols)"
   ]
  },
  {
   "cell_type": "code",
   "execution_count": 4,
   "metadata": {},
   "outputs": [
    {
     "data": {
      "text/html": [
       "<div>\n",
       "<style scoped>\n",
       "    .dataframe tbody tr th:only-of-type {\n",
       "        vertical-align: middle;\n",
       "    }\n",
       "\n",
       "    .dataframe tbody tr th {\n",
       "        vertical-align: top;\n",
       "    }\n",
       "\n",
       "    .dataframe thead th {\n",
       "        text-align: right;\n",
       "    }\n",
       "</style>\n",
       "<table border=\"1\" class=\"dataframe\">\n",
       "  <thead>\n",
       "    <tr style=\"text-align: right;\">\n",
       "      <th></th>\n",
       "      <th>id</th>\n",
       "      <th>host_id</th>\n",
       "      <th>zipcode</th>\n",
       "      <th>property_type</th>\n",
       "      <th>room_type</th>\n",
       "      <th>accommodates</th>\n",
       "      <th>bathrooms</th>\n",
       "      <th>bedrooms</th>\n",
       "      <th>beds</th>\n",
       "      <th>bed_type</th>\n",
       "      <th>price</th>\n",
       "      <th>minimum_nights</th>\n",
       "      <th>availability_30</th>\n",
       "      <th>number_of_reviews</th>\n",
       "      <th>review_scores_rating</th>\n",
       "      <th>host_listing_count</th>\n",
       "    </tr>\n",
       "  </thead>\n",
       "  <tbody>\n",
       "    <tr>\n",
       "      <th>0</th>\n",
       "      <td>1069266</td>\n",
       "      <td>5867023</td>\n",
       "      <td>10022-4175</td>\n",
       "      <td>Apartment</td>\n",
       "      <td>Entire home/apt</td>\n",
       "      <td>2</td>\n",
       "      <td>1.0</td>\n",
       "      <td>1.0</td>\n",
       "      <td>1.0</td>\n",
       "      <td>Real Bed</td>\n",
       "      <td>$160.00</td>\n",
       "      <td>3</td>\n",
       "      <td>21</td>\n",
       "      <td>62</td>\n",
       "      <td>86.0</td>\n",
       "      <td>1</td>\n",
       "    </tr>\n",
       "    <tr>\n",
       "      <th>1</th>\n",
       "      <td>1846722</td>\n",
       "      <td>2631556</td>\n",
       "      <td>NaN</td>\n",
       "      <td>Apartment</td>\n",
       "      <td>Entire home/apt</td>\n",
       "      <td>10</td>\n",
       "      <td>1.0</td>\n",
       "      <td>3.0</td>\n",
       "      <td>3.0</td>\n",
       "      <td>Real Bed</td>\n",
       "      <td>$105.00</td>\n",
       "      <td>1</td>\n",
       "      <td>28</td>\n",
       "      <td>22</td>\n",
       "      <td>85.0</td>\n",
       "      <td>2</td>\n",
       "    </tr>\n",
       "    <tr>\n",
       "      <th>2</th>\n",
       "      <td>2061725</td>\n",
       "      <td>4601412</td>\n",
       "      <td>11221</td>\n",
       "      <td>Apartment</td>\n",
       "      <td>Private room</td>\n",
       "      <td>2</td>\n",
       "      <td>1.0</td>\n",
       "      <td>1.0</td>\n",
       "      <td>2.0</td>\n",
       "      <td>Real Bed</td>\n",
       "      <td>$58.00</td>\n",
       "      <td>3</td>\n",
       "      <td>4</td>\n",
       "      <td>35</td>\n",
       "      <td>98.0</td>\n",
       "      <td>4</td>\n",
       "    </tr>\n",
       "    <tr>\n",
       "      <th>3</th>\n",
       "      <td>44974</td>\n",
       "      <td>198425</td>\n",
       "      <td>10011</td>\n",
       "      <td>Apartment</td>\n",
       "      <td>Entire home/apt</td>\n",
       "      <td>2</td>\n",
       "      <td>1.0</td>\n",
       "      <td>1.0</td>\n",
       "      <td>1.0</td>\n",
       "      <td>Real Bed</td>\n",
       "      <td>$185.00</td>\n",
       "      <td>10</td>\n",
       "      <td>1</td>\n",
       "      <td>26</td>\n",
       "      <td>96.0</td>\n",
       "      <td>1</td>\n",
       "    </tr>\n",
       "    <tr>\n",
       "      <th>4</th>\n",
       "      <td>4701675</td>\n",
       "      <td>22590025</td>\n",
       "      <td>10011</td>\n",
       "      <td>Apartment</td>\n",
       "      <td>Entire home/apt</td>\n",
       "      <td>2</td>\n",
       "      <td>1.0</td>\n",
       "      <td>1.0</td>\n",
       "      <td>2.0</td>\n",
       "      <td>Real Bed</td>\n",
       "      <td>$195.00</td>\n",
       "      <td>1</td>\n",
       "      <td>30</td>\n",
       "      <td>1</td>\n",
       "      <td>100.0</td>\n",
       "      <td>1</td>\n",
       "    </tr>\n",
       "    <tr>\n",
       "      <th>5</th>\n",
       "      <td>68914</td>\n",
       "      <td>343302</td>\n",
       "      <td>11231</td>\n",
       "      <td>Apartment</td>\n",
       "      <td>Entire home/apt</td>\n",
       "      <td>6</td>\n",
       "      <td>1.0</td>\n",
       "      <td>2.0</td>\n",
       "      <td>3.0</td>\n",
       "      <td>Real Bed</td>\n",
       "      <td>$165.00</td>\n",
       "      <td>2</td>\n",
       "      <td>11</td>\n",
       "      <td>16</td>\n",
       "      <td>96.0</td>\n",
       "      <td>2</td>\n",
       "    </tr>\n",
       "    <tr>\n",
       "      <th>6</th>\n",
       "      <td>4832596</td>\n",
       "      <td>4148973</td>\n",
       "      <td>11207</td>\n",
       "      <td>Apartment</td>\n",
       "      <td>Private room</td>\n",
       "      <td>2</td>\n",
       "      <td>1.0</td>\n",
       "      <td>1.0</td>\n",
       "      <td>1.0</td>\n",
       "      <td>Real Bed</td>\n",
       "      <td>$80.00</td>\n",
       "      <td>1</td>\n",
       "      <td>29</td>\n",
       "      <td>0</td>\n",
       "      <td>NaN</td>\n",
       "      <td>1</td>\n",
       "    </tr>\n",
       "    <tr>\n",
       "      <th>7</th>\n",
       "      <td>2562510</td>\n",
       "      <td>13119459</td>\n",
       "      <td>10013</td>\n",
       "      <td>Apartment</td>\n",
       "      <td>Private room</td>\n",
       "      <td>2</td>\n",
       "      <td>1.0</td>\n",
       "      <td>1.0</td>\n",
       "      <td>1.0</td>\n",
       "      <td>Real Bed</td>\n",
       "      <td>$120.00</td>\n",
       "      <td>2</td>\n",
       "      <td>5</td>\n",
       "      <td>0</td>\n",
       "      <td>NaN</td>\n",
       "      <td>1</td>\n",
       "    </tr>\n",
       "    <tr>\n",
       "      <th>8</th>\n",
       "      <td>3005360</td>\n",
       "      <td>4421803</td>\n",
       "      <td>10003</td>\n",
       "      <td>Apartment</td>\n",
       "      <td>Entire home/apt</td>\n",
       "      <td>4</td>\n",
       "      <td>1.0</td>\n",
       "      <td>2.0</td>\n",
       "      <td>2.0</td>\n",
       "      <td>Real Bed</td>\n",
       "      <td>$150.00</td>\n",
       "      <td>1</td>\n",
       "      <td>30</td>\n",
       "      <td>14</td>\n",
       "      <td>96.0</td>\n",
       "      <td>4</td>\n",
       "    </tr>\n",
       "    <tr>\n",
       "      <th>9</th>\n",
       "      <td>2431607</td>\n",
       "      <td>4973668</td>\n",
       "      <td>11221</td>\n",
       "      <td>Apartment</td>\n",
       "      <td>Shared room</td>\n",
       "      <td>2</td>\n",
       "      <td>1.0</td>\n",
       "      <td>1.0</td>\n",
       "      <td>1.0</td>\n",
       "      <td>Real Bed</td>\n",
       "      <td>$40.00</td>\n",
       "      <td>4</td>\n",
       "      <td>0</td>\n",
       "      <td>10</td>\n",
       "      <td>94.0</td>\n",
       "      <td>4</td>\n",
       "    </tr>\n",
       "  </tbody>\n",
       "</table>\n",
       "</div>"
      ],
      "text/plain": [
       "        id   host_id     zipcode property_type        room_type  accommodates  \\\n",
       "0  1069266   5867023  10022-4175     Apartment  Entire home/apt             2   \n",
       "1  1846722   2631556         NaN     Apartment  Entire home/apt            10   \n",
       "2  2061725   4601412       11221     Apartment     Private room             2   \n",
       "3    44974    198425       10011     Apartment  Entire home/apt             2   \n",
       "4  4701675  22590025       10011     Apartment  Entire home/apt             2   \n",
       "5    68914    343302       11231     Apartment  Entire home/apt             6   \n",
       "6  4832596   4148973       11207     Apartment     Private room             2   \n",
       "7  2562510  13119459       10013     Apartment     Private room             2   \n",
       "8  3005360   4421803       10003     Apartment  Entire home/apt             4   \n",
       "9  2431607   4973668       11221     Apartment      Shared room             2   \n",
       "\n",
       "   bathrooms  bedrooms  beds  bed_type     price  minimum_nights  \\\n",
       "0        1.0       1.0   1.0  Real Bed  $160.00                3   \n",
       "1        1.0       3.0   3.0  Real Bed  $105.00                1   \n",
       "2        1.0       1.0   2.0  Real Bed   $58.00                3   \n",
       "3        1.0       1.0   1.0  Real Bed  $185.00               10   \n",
       "4        1.0       1.0   2.0  Real Bed  $195.00                1   \n",
       "5        1.0       2.0   3.0  Real Bed  $165.00                2   \n",
       "6        1.0       1.0   1.0  Real Bed   $80.00                1   \n",
       "7        1.0       1.0   1.0  Real Bed  $120.00                2   \n",
       "8        1.0       2.0   2.0  Real Bed  $150.00                1   \n",
       "9        1.0       1.0   1.0  Real Bed   $40.00                4   \n",
       "\n",
       "   availability_30  number_of_reviews  review_scores_rating  \\\n",
       "0               21                 62                  86.0   \n",
       "1               28                 22                  85.0   \n",
       "2                4                 35                  98.0   \n",
       "3                1                 26                  96.0   \n",
       "4               30                  1                 100.0   \n",
       "5               11                 16                  96.0   \n",
       "6               29                  0                   NaN   \n",
       "7                5                  0                   NaN   \n",
       "8               30                 14                  96.0   \n",
       "9                0                 10                  94.0   \n",
       "\n",
       "   host_listing_count  \n",
       "0                   1  \n",
       "1                   2  \n",
       "2                   4  \n",
       "3                   1  \n",
       "4                   1  \n",
       "5                   2  \n",
       "6                   1  \n",
       "7                   1  \n",
       "8                   4  \n",
       "9                   4  "
      ]
     },
     "execution_count": 4,
     "metadata": {},
     "output_type": "execute_result"
    }
   ],
   "source": [
    "data.head(10)"
   ]
  },
  {
   "cell_type": "code",
   "execution_count": 5,
   "metadata": {},
   "outputs": [
    {
     "data": {
      "text/plain": [
       "162"
      ]
     },
     "execution_count": 5,
     "metadata": {},
     "output_type": "execute_result"
    }
   ],
   "source": [
    "len(data['zipcode'][data.zipcode.isnull()])"
   ]
  },
  {
   "cell_type": "code",
   "execution_count": 6,
   "metadata": {},
   "outputs": [
    {
     "data": {
      "text/plain": [
       "16"
      ]
     },
     "execution_count": 6,
     "metadata": {},
     "output_type": "execute_result"
    }
   ],
   "source": [
    "len(data.columns)"
   ]
  },
  {
   "cell_type": "code",
   "execution_count": 8,
   "metadata": {},
   "outputs": [
    {
     "name": "stdout",
     "output_type": "stream",
     "text": [
      "id, Number of Missing Values: 0\n",
      "host_id, Number of Missing Values: 0\n",
      "zipcode, Number of Missing Values: 162\n",
      "property_type, Number of Missing Values: 6\n",
      "room_type, Number of Missing Values: 0\n",
      "accommodates, Number of Missing Values: 0\n",
      "bathrooms, Number of Missing Values: 463\n",
      "bedrooms, Number of Missing Values: 140\n",
      "beds, Number of Missing Values: 98\n",
      "bed_type, Number of Missing Values: 0\n",
      "price, Number of Missing Values: 0\n",
      "minimum_nights, Number of Missing Values: 0\n",
      "availability_30, Number of Missing Values: 0\n",
      "number_of_reviews, Number of Missing Values: 0\n",
      "review_scores_rating, Number of Missing Values: 8657\n",
      "host_listing_count, Number of Missing Values: 0\n"
     ]
    }
   ],
   "source": [
    "# check the number of missing values in each individual column\n",
    "for col in data.columns:\n",
    "    print (col + ', Number of Missing Values:', len(data[col][data[col].isnull()]))"
   ]
  },
  {
   "cell_type": "markdown",
   "metadata": {},
   "source": [
    "### 1. Remove NaN values from dataframe except review_scores_rating"
   ]
  },
  {
   "cell_type": "code",
   "execution_count": 72,
   "metadata": {},
   "outputs": [
    {
     "name": "stdout",
     "output_type": "stream",
     "text": [
      "Number of NaN values removed: 769\n"
     ]
    }
   ],
   "source": [
    "original = len(data)\n",
    "data = data.dropna(how='any', subset=['zipcode', 'property_type', 'bedrooms', 'beds', 'bathrooms'])\n",
    "print('Number of NaN values removed:', original - len(data))"
   ]
  },
  {
   "cell_type": "markdown",
   "metadata": {},
   "source": [
    "###  2. Convert formatting for price from dollar1.00 into a float of 1.00\n",
    "$1.00 ----> 1.00"
   ]
  },
  {
   "cell_type": "code",
   "execution_count": 9,
   "metadata": {},
   "outputs": [],
   "source": [
    "data['price'] = (data['price'].str.replace(r'[^-+\\d.]', '').astype(float))"
   ]
  },
  {
   "cell_type": "markdown",
   "metadata": {},
   "source": [
    "### 3. Drop any invalid values"
   ]
  },
  {
   "cell_type": "code",
   "execution_count": 13,
   "metadata": {},
   "outputs": [
    {
     "ename": "SyntaxError",
     "evalue": "invalid syntax (<ipython-input-13-702b2514fe3f>, line 1)",
     "output_type": "error",
     "traceback": [
      "\u001b[1;36m  File \u001b[1;32m\"<ipython-input-13-702b2514fe3f>\"\u001b[1;36m, line \u001b[1;32m1\u001b[0m\n\u001b[1;33m    print ('Number of Accommodates 0:', len(data['accommodates'] == 0]))\u001b[0m\n\u001b[1;37m                                                                     ^\u001b[0m\n\u001b[1;31mSyntaxError\u001b[0m\u001b[1;31m:\u001b[0m invalid syntax\n"
     ]
    }
   ],
   "source": [
    "print ('Number of Accommodates 0:', len(data[data['accommodates'] == 0]))\n",
    "print ('Number of Bedrooms 0:', len(data[data['bedrooms'] == 0]))\n",
    "print ('Number of Beds 0:', len(data[data['beds'] == 0]))\n",
    "print ('Number of Listings with Price $0.00:', len(data[data['price'] == 0.00]))\n",
    "\n",
    "data = data[data['accommodates'] != 0]\n",
    "data = data[data['bedrooms'] != 0]\n",
    "data = data[data['beds'] != 0]\n",
    "data = data[data['price'] != 0.00]"
   ]
  },
  {
   "cell_type": "markdown",
   "metadata": {},
   "source": [
    "### 4. Convert Zipcode to 5 digits"
   ]
  },
  {
   "cell_type": "code",
   "execution_count": 27,
   "metadata": {},
   "outputs": [],
   "source": [
    "data['zipcode'] = data['zipcode'].str.replace(r'-\\d+', '')"
   ]
  },
  {
   "cell_type": "code",
   "execution_count": 25,
   "metadata": {},
   "outputs": [
    {
     "data": {
      "text/plain": [
       "method_descriptor"
      ]
     },
     "execution_count": 25,
     "metadata": {},
     "output_type": "execute_result"
    }
   ],
   "source": [
    "type(str.replace)"
   ]
  },
  {
   "cell_type": "code",
   "execution_count": 28,
   "metadata": {},
   "outputs": [
    {
     "data": {
      "text/html": [
       "<div>\n",
       "<style scoped>\n",
       "    .dataframe tbody tr th:only-of-type {\n",
       "        vertical-align: middle;\n",
       "    }\n",
       "\n",
       "    .dataframe tbody tr th {\n",
       "        vertical-align: top;\n",
       "    }\n",
       "\n",
       "    .dataframe thead th {\n",
       "        text-align: right;\n",
       "    }\n",
       "</style>\n",
       "<table border=\"1\" class=\"dataframe\">\n",
       "  <thead>\n",
       "    <tr style=\"text-align: right;\">\n",
       "      <th></th>\n",
       "      <th>id</th>\n",
       "      <th>host_id</th>\n",
       "      <th>zipcode</th>\n",
       "      <th>property_type</th>\n",
       "      <th>room_type</th>\n",
       "      <th>accommodates</th>\n",
       "      <th>bathrooms</th>\n",
       "      <th>bedrooms</th>\n",
       "      <th>beds</th>\n",
       "      <th>bed_type</th>\n",
       "      <th>price</th>\n",
       "      <th>minimum_nights</th>\n",
       "      <th>availability_30</th>\n",
       "      <th>number_of_reviews</th>\n",
       "      <th>review_scores_rating</th>\n",
       "      <th>host_listing_count</th>\n",
       "    </tr>\n",
       "  </thead>\n",
       "  <tbody>\n",
       "    <tr>\n",
       "      <th>0</th>\n",
       "      <td>1069266</td>\n",
       "      <td>5867023</td>\n",
       "      <td>10022</td>\n",
       "      <td>Apartment</td>\n",
       "      <td>Entire home/apt</td>\n",
       "      <td>2</td>\n",
       "      <td>1.0</td>\n",
       "      <td>1.0</td>\n",
       "      <td>1.0</td>\n",
       "      <td>Real Bed</td>\n",
       "      <td>160.0</td>\n",
       "      <td>3</td>\n",
       "      <td>21</td>\n",
       "      <td>62</td>\n",
       "      <td>86.0</td>\n",
       "      <td>1</td>\n",
       "    </tr>\n",
       "    <tr>\n",
       "      <th>2</th>\n",
       "      <td>2061725</td>\n",
       "      <td>4601412</td>\n",
       "      <td>11221</td>\n",
       "      <td>Apartment</td>\n",
       "      <td>Private room</td>\n",
       "      <td>2</td>\n",
       "      <td>1.0</td>\n",
       "      <td>1.0</td>\n",
       "      <td>2.0</td>\n",
       "      <td>Real Bed</td>\n",
       "      <td>58.0</td>\n",
       "      <td>3</td>\n",
       "      <td>4</td>\n",
       "      <td>35</td>\n",
       "      <td>98.0</td>\n",
       "      <td>4</td>\n",
       "    </tr>\n",
       "    <tr>\n",
       "      <th>3</th>\n",
       "      <td>44974</td>\n",
       "      <td>198425</td>\n",
       "      <td>10011</td>\n",
       "      <td>Apartment</td>\n",
       "      <td>Entire home/apt</td>\n",
       "      <td>2</td>\n",
       "      <td>1.0</td>\n",
       "      <td>1.0</td>\n",
       "      <td>1.0</td>\n",
       "      <td>Real Bed</td>\n",
       "      <td>185.0</td>\n",
       "      <td>10</td>\n",
       "      <td>1</td>\n",
       "      <td>26</td>\n",
       "      <td>96.0</td>\n",
       "      <td>1</td>\n",
       "    </tr>\n",
       "    <tr>\n",
       "      <th>4</th>\n",
       "      <td>4701675</td>\n",
       "      <td>22590025</td>\n",
       "      <td>10011</td>\n",
       "      <td>Apartment</td>\n",
       "      <td>Entire home/apt</td>\n",
       "      <td>2</td>\n",
       "      <td>1.0</td>\n",
       "      <td>1.0</td>\n",
       "      <td>2.0</td>\n",
       "      <td>Real Bed</td>\n",
       "      <td>195.0</td>\n",
       "      <td>1</td>\n",
       "      <td>30</td>\n",
       "      <td>1</td>\n",
       "      <td>100.0</td>\n",
       "      <td>1</td>\n",
       "    </tr>\n",
       "    <tr>\n",
       "      <th>5</th>\n",
       "      <td>68914</td>\n",
       "      <td>343302</td>\n",
       "      <td>11231</td>\n",
       "      <td>Apartment</td>\n",
       "      <td>Entire home/apt</td>\n",
       "      <td>6</td>\n",
       "      <td>1.0</td>\n",
       "      <td>2.0</td>\n",
       "      <td>3.0</td>\n",
       "      <td>Real Bed</td>\n",
       "      <td>165.0</td>\n",
       "      <td>2</td>\n",
       "      <td>11</td>\n",
       "      <td>16</td>\n",
       "      <td>96.0</td>\n",
       "      <td>2</td>\n",
       "    </tr>\n",
       "  </tbody>\n",
       "</table>\n",
       "</div>"
      ],
      "text/plain": [
       "        id   host_id zipcode property_type        room_type  accommodates  \\\n",
       "0  1069266   5867023   10022     Apartment  Entire home/apt             2   \n",
       "2  2061725   4601412   11221     Apartment     Private room             2   \n",
       "3    44974    198425   10011     Apartment  Entire home/apt             2   \n",
       "4  4701675  22590025   10011     Apartment  Entire home/apt             2   \n",
       "5    68914    343302   11231     Apartment  Entire home/apt             6   \n",
       "\n",
       "   bathrooms  bedrooms  beds  bed_type  price  minimum_nights  \\\n",
       "0        1.0       1.0   1.0  Real Bed  160.0               3   \n",
       "2        1.0       1.0   2.0  Real Bed   58.0               3   \n",
       "3        1.0       1.0   1.0  Real Bed  185.0              10   \n",
       "4        1.0       1.0   2.0  Real Bed  195.0               1   \n",
       "5        1.0       2.0   3.0  Real Bed  165.0               2   \n",
       "\n",
       "   availability_30  number_of_reviews  review_scores_rating  \\\n",
       "0               21                 62                  86.0   \n",
       "2                4                 35                  98.0   \n",
       "3                1                 26                  96.0   \n",
       "4               30                  1                 100.0   \n",
       "5               11                 16                  96.0   \n",
       "\n",
       "   host_listing_count  \n",
       "0                   1  \n",
       "2                   4  \n",
       "3                   1  \n",
       "4                   1  \n",
       "5                   2  "
      ]
     },
     "execution_count": 28,
     "metadata": {},
     "output_type": "execute_result"
    }
   ],
   "source": [
    "data.head()"
   ]
  },
  {
   "cell_type": "code",
   "execution_count": 29,
   "metadata": {},
   "outputs": [
    {
     "name": "stdout",
     "output_type": "stream",
     "text": [
      "Number of missing review scores ratings: 7712\n"
     ]
    }
   ],
   "source": [
    "print('Number of missing review scores ratings:', len(data['review_scores_rating'][data['review_scores_rating'].isnull()]))"
   ]
  },
  {
   "cell_type": "markdown",
   "metadata": {},
   "source": [
    "### 5.  Let's explore distribution of accommodates"
   ]
  },
  {
   "cell_type": "code",
   "execution_count": 31,
   "metadata": {},
   "outputs": [
    {
     "name": "stdout",
     "output_type": "stream",
     "text": [
      "Number of Unique Accomodation:  113\n"
     ]
    }
   ],
   "source": [
    "print('Number of Unique Accomodation: ', len(np.unique(data['beds'])))"
   ]
  },
  {
   "cell_type": "code",
   "execution_count": 30,
   "metadata": {},
   "outputs": [
    {
     "name": "stdout",
     "output_type": "stream",
     "text": [
      "Number of Unique Accomodation:  [ 1  2  3  4  5  6  7  8  9 10 11 12 13 14 15 16]\n",
      "Accommodation 1: 2643\n",
      "Accommodation 2: 11400\n",
      "Accommodation 3: 2909\n",
      "Accommodation 4: 4278\n",
      "Accommodation 5: 982\n",
      "Accommodation 6: 1214\n",
      "Accommodation 7: 217\n",
      "Accommodation 8: 333\n",
      "Accommodation 9: 57\n",
      "Accommodation 10: 119\n",
      "Accommodation 11: 15\n",
      "Accommodation 12: 43\n",
      "Accommodation 13: 4\n",
      "Accommodation 14: 14\n",
      "Accommodation 15: 5\n",
      "Accommodation 16: 69\n"
     ]
    }
   ],
   "source": [
    "print('Number of Unique Accomodation: ', np.unique(data['accommodates']))\n",
    "for i in range(1, 17):\n",
    "    print('Accommodation {}:'.format(i), len(data[data['accommodates'] == i]))"
   ]
  },
  {
   "cell_type": "code",
   "execution_count": 31,
   "metadata": {},
   "outputs": [
    {
     "data": {
      "text/plain": [
       "accommodates\n",
       "1      2643\n",
       "2     11400\n",
       "3      2909\n",
       "4      4278\n",
       "5       982\n",
       "6      1214\n",
       "7       217\n",
       "8       333\n",
       "9        57\n",
       "10      119\n",
       "11       15\n",
       "12       43\n",
       "13        4\n",
       "14       14\n",
       "15        5\n",
       "16       69\n",
       "Name: id, dtype: int64"
      ]
     },
     "execution_count": 31,
     "metadata": {},
     "output_type": "execute_result"
    }
   ],
   "source": [
    "data.groupby('accommodates').agg('count')['id']"
   ]
  },
  {
   "cell_type": "markdown",
   "metadata": {},
   "source": [
    "### 6. Visualize distribution of price, accommdations, beds, and review_scores_rating respectively"
   ]
  },
  {
   "cell_type": "code",
   "execution_count": 75,
   "metadata": {},
   "outputs": [
    {
     "data": {
      "image/png": "[encoded data removed]",
      "text/plain": [
       "<Figure size 432x288 with 1 Axes>"
      ]
     },
     "metadata": {
      "needs_background": "light"
     },
     "output_type": "display_data"
    }
   ],
   "source": [
    "plt.hist(data['accommodates'], bins=50)\n",
    "plt.title(\"Histogram of Accommodations\")\n",
    "plt.xlabel(\"Number of Accommodations\")\n",
    "plt.ylabel(\"Frequency\")\n",
    "plt.show()"
   ]
  },
  {
   "cell_type": "markdown",
   "metadata": {},
   "source": [
    "We see that a majority of listings have accomodations for 1-4 people. 1 bed typically accomodates 2 individuals, so let's plot beds instead to analyze how many of the listings are single bedroom listings."
   ]
  },
  {
   "cell_type": "code",
   "execution_count": 34,
   "metadata": {},
   "outputs": [
    {
     "name": "stdout",
     "output_type": "stream",
     "text": [
      "Number of Unique Beds:  [ 1.  2.  3.  4.  5.  6.  7.  8.  9. 10. 11. 12. 13. 14. 16. nan nan nan\n",
      " nan nan nan nan nan nan nan nan nan nan nan nan nan nan nan nan nan nan\n",
      " nan nan nan nan nan nan nan nan nan nan nan nan nan nan nan nan nan nan\n",
      " nan nan nan nan nan nan nan nan nan nan nan nan nan nan nan nan nan nan\n",
      " nan nan nan nan nan nan nan nan nan nan nan nan nan nan nan nan nan nan\n",
      " nan nan nan nan nan nan nan nan nan nan nan nan nan nan nan nan nan nan\n",
      " nan nan nan nan nan]\n",
      "Beds 1: 18339\n",
      "Beds 2: 5979\n",
      "Beds 3: 1832\n",
      "Beds 4: 629\n",
      "Beds 5: 251\n",
      "Beds 6: 121\n",
      "Beds 7: 41\n",
      "Beds 8: 23\n",
      "Beds 9: 3\n",
      "Beds 10: 20\n",
      "Beds 11: 4\n",
      "Beds 12: 9\n",
      "Beds 13: 1\n",
      "Beds 14: 15\n",
      "Beds 15: 0\n",
      "Beds 16: 27\n"
     ]
    }
   ],
   "source": [
    "# explore distribution of beds\n",
    "\n",
    "print('Number of Unique Beds: ', np.unique(data['beds']))\n",
    "for i in range(1, 17):\n",
    "    print('Beds {}:'.format(i), len(data[data['beds'] == i]))"
   ]
  },
  {
   "cell_type": "code",
   "execution_count": 76,
   "metadata": {},
   "outputs": [
    {
     "data": {
      "image/png": "[encoded data removed]",
      "text/plain": [
       "<Figure size 432x288 with 1 Axes>"
      ]
     },
     "metadata": {
      "needs_background": "light"
     },
     "output_type": "display_data"
    }
   ],
   "source": [
    "# Visualize the distribution of beds\n",
    "plt.hist(data['beds'], bins=50)\n",
    "plt.title(\"Histogram of Beds\")\n",
    "plt.xlabel(\"Bed Count\")\n",
    "plt.ylabel(\"Frequency\")\n",
    "plt.show()"
   ]
  },
  {
   "cell_type": "code",
   "execution_count": 77,
   "metadata": {},
   "outputs": [
    {
     "data": {
      "image/png": "[encoded data removed]",
      "text/plain": [
       "<Figure size 432x288 with 1 Axes>"
      ]
     },
     "metadata": {
      "needs_background": "light"
     },
     "output_type": "display_data"
    }
   ],
   "source": [
    "# visualize distribution of review scores ratings\n",
    "plt.hist(data['review_scores_rating'][~data['review_scores_rating'].isnull()])\n",
    "plt.title(\"Histogram of Review Scores Ratings\")\n",
    "plt.xlabel(\"Review Score\")\n",
    "plt.ylabel(\"Frequency\")\n",
    "plt.show()"
   ]
  },
  {
   "cell_type": "markdown",
   "metadata": {},
   "source": [
    "### 7. Convert NaN scores with 0 reviews into 'No Reviews'"
   ]
  },
  {
   "cell_type": "code",
   "execution_count": 36,
   "metadata": {},
   "outputs": [],
   "source": [
    "idx_vals = data['review_scores_rating'][data['number_of_reviews'] == 0].index.values.tolist()\n",
    "data.loc[idx_vals, 'review_scores_rating'] = data['review_scores_rating'][data['number_of_reviews'] == 0].replace(np.nan, 'No Reviews')"
   ]
  },
  {
   "cell_type": "code",
   "execution_count": 37,
   "metadata": {},
   "outputs": [
    {
     "data": {
      "text/html": [
       "<div>\n",
       "<style scoped>\n",
       "    .dataframe tbody tr th:only-of-type {\n",
       "        vertical-align: middle;\n",
       "    }\n",
       "\n",
       "    .dataframe tbody tr th {\n",
       "        vertical-align: top;\n",
       "    }\n",
       "\n",
       "    .dataframe thead th {\n",
       "        text-align: right;\n",
       "    }\n",
       "</style>\n",
       "<table border=\"1\" class=\"dataframe\">\n",
       "  <thead>\n",
       "    <tr style=\"text-align: right;\">\n",
       "      <th></th>\n",
       "      <th>id</th>\n",
       "      <th>host_id</th>\n",
       "      <th>zipcode</th>\n",
       "      <th>property_type</th>\n",
       "      <th>room_type</th>\n",
       "      <th>accommodates</th>\n",
       "      <th>bathrooms</th>\n",
       "      <th>bedrooms</th>\n",
       "      <th>beds</th>\n",
       "      <th>bed_type</th>\n",
       "      <th>price</th>\n",
       "      <th>minimum_nights</th>\n",
       "      <th>availability_30</th>\n",
       "      <th>number_of_reviews</th>\n",
       "      <th>review_scores_rating</th>\n",
       "      <th>host_listing_count</th>\n",
       "    </tr>\n",
       "  </thead>\n",
       "  <tbody>\n",
       "    <tr>\n",
       "      <th>0</th>\n",
       "      <td>1069266</td>\n",
       "      <td>5867023</td>\n",
       "      <td>10022</td>\n",
       "      <td>Apartment</td>\n",
       "      <td>Entire home/apt</td>\n",
       "      <td>2</td>\n",
       "      <td>1.0</td>\n",
       "      <td>1.0</td>\n",
       "      <td>1.0</td>\n",
       "      <td>Real Bed</td>\n",
       "      <td>160.0</td>\n",
       "      <td>3</td>\n",
       "      <td>21</td>\n",
       "      <td>62</td>\n",
       "      <td>86</td>\n",
       "      <td>1</td>\n",
       "    </tr>\n",
       "    <tr>\n",
       "      <th>2</th>\n",
       "      <td>2061725</td>\n",
       "      <td>4601412</td>\n",
       "      <td>11221</td>\n",
       "      <td>Apartment</td>\n",
       "      <td>Private room</td>\n",
       "      <td>2</td>\n",
       "      <td>1.0</td>\n",
       "      <td>1.0</td>\n",
       "      <td>2.0</td>\n",
       "      <td>Real Bed</td>\n",
       "      <td>58.0</td>\n",
       "      <td>3</td>\n",
       "      <td>4</td>\n",
       "      <td>35</td>\n",
       "      <td>98</td>\n",
       "      <td>4</td>\n",
       "    </tr>\n",
       "    <tr>\n",
       "      <th>3</th>\n",
       "      <td>44974</td>\n",
       "      <td>198425</td>\n",
       "      <td>10011</td>\n",
       "      <td>Apartment</td>\n",
       "      <td>Entire home/apt</td>\n",
       "      <td>2</td>\n",
       "      <td>1.0</td>\n",
       "      <td>1.0</td>\n",
       "      <td>1.0</td>\n",
       "      <td>Real Bed</td>\n",
       "      <td>185.0</td>\n",
       "      <td>10</td>\n",
       "      <td>1</td>\n",
       "      <td>26</td>\n",
       "      <td>96</td>\n",
       "      <td>1</td>\n",
       "    </tr>\n",
       "    <tr>\n",
       "      <th>4</th>\n",
       "      <td>4701675</td>\n",
       "      <td>22590025</td>\n",
       "      <td>10011</td>\n",
       "      <td>Apartment</td>\n",
       "      <td>Entire home/apt</td>\n",
       "      <td>2</td>\n",
       "      <td>1.0</td>\n",
       "      <td>1.0</td>\n",
       "      <td>2.0</td>\n",
       "      <td>Real Bed</td>\n",
       "      <td>195.0</td>\n",
       "      <td>1</td>\n",
       "      <td>30</td>\n",
       "      <td>1</td>\n",
       "      <td>100</td>\n",
       "      <td>1</td>\n",
       "    </tr>\n",
       "    <tr>\n",
       "      <th>5</th>\n",
       "      <td>68914</td>\n",
       "      <td>343302</td>\n",
       "      <td>11231</td>\n",
       "      <td>Apartment</td>\n",
       "      <td>Entire home/apt</td>\n",
       "      <td>6</td>\n",
       "      <td>1.0</td>\n",
       "      <td>2.0</td>\n",
       "      <td>3.0</td>\n",
       "      <td>Real Bed</td>\n",
       "      <td>165.0</td>\n",
       "      <td>2</td>\n",
       "      <td>11</td>\n",
       "      <td>16</td>\n",
       "      <td>96</td>\n",
       "      <td>2</td>\n",
       "    </tr>\n",
       "    <tr>\n",
       "      <th>6</th>\n",
       "      <td>4832596</td>\n",
       "      <td>4148973</td>\n",
       "      <td>11207</td>\n",
       "      <td>Apartment</td>\n",
       "      <td>Private room</td>\n",
       "      <td>2</td>\n",
       "      <td>1.0</td>\n",
       "      <td>1.0</td>\n",
       "      <td>1.0</td>\n",
       "      <td>Real Bed</td>\n",
       "      <td>80.0</td>\n",
       "      <td>1</td>\n",
       "      <td>29</td>\n",
       "      <td>0</td>\n",
       "      <td>No Reviews</td>\n",
       "      <td>1</td>\n",
       "    </tr>\n",
       "    <tr>\n",
       "      <th>7</th>\n",
       "      <td>2562510</td>\n",
       "      <td>13119459</td>\n",
       "      <td>10013</td>\n",
       "      <td>Apartment</td>\n",
       "      <td>Private room</td>\n",
       "      <td>2</td>\n",
       "      <td>1.0</td>\n",
       "      <td>1.0</td>\n",
       "      <td>1.0</td>\n",
       "      <td>Real Bed</td>\n",
       "      <td>120.0</td>\n",
       "      <td>2</td>\n",
       "      <td>5</td>\n",
       "      <td>0</td>\n",
       "      <td>No Reviews</td>\n",
       "      <td>1</td>\n",
       "    </tr>\n",
       "    <tr>\n",
       "      <th>8</th>\n",
       "      <td>3005360</td>\n",
       "      <td>4421803</td>\n",
       "      <td>10003</td>\n",
       "      <td>Apartment</td>\n",
       "      <td>Entire home/apt</td>\n",
       "      <td>4</td>\n",
       "      <td>1.0</td>\n",
       "      <td>2.0</td>\n",
       "      <td>2.0</td>\n",
       "      <td>Real Bed</td>\n",
       "      <td>150.0</td>\n",
       "      <td>1</td>\n",
       "      <td>30</td>\n",
       "      <td>14</td>\n",
       "      <td>96</td>\n",
       "      <td>4</td>\n",
       "    </tr>\n",
       "    <tr>\n",
       "      <th>9</th>\n",
       "      <td>2431607</td>\n",
       "      <td>4973668</td>\n",
       "      <td>11221</td>\n",
       "      <td>Apartment</td>\n",
       "      <td>Shared room</td>\n",
       "      <td>2</td>\n",
       "      <td>1.0</td>\n",
       "      <td>1.0</td>\n",
       "      <td>1.0</td>\n",
       "      <td>Real Bed</td>\n",
       "      <td>40.0</td>\n",
       "      <td>4</td>\n",
       "      <td>0</td>\n",
       "      <td>10</td>\n",
       "      <td>94</td>\n",
       "      <td>4</td>\n",
       "    </tr>\n",
       "    <tr>\n",
       "      <th>11</th>\n",
       "      <td>4833061</td>\n",
       "      <td>24879430</td>\n",
       "      <td>11221</td>\n",
       "      <td>Apartment</td>\n",
       "      <td>Private room</td>\n",
       "      <td>2</td>\n",
       "      <td>1.0</td>\n",
       "      <td>1.0</td>\n",
       "      <td>1.0</td>\n",
       "      <td>Real Bed</td>\n",
       "      <td>75.0</td>\n",
       "      <td>1</td>\n",
       "      <td>2</td>\n",
       "      <td>0</td>\n",
       "      <td>No Reviews</td>\n",
       "      <td>1</td>\n",
       "    </tr>\n",
       "  </tbody>\n",
       "</table>\n",
       "</div>"
      ],
      "text/plain": [
       "         id   host_id zipcode property_type        room_type  accommodates  \\\n",
       "0   1069266   5867023   10022     Apartment  Entire home/apt             2   \n",
       "2   2061725   4601412   11221     Apartment     Private room             2   \n",
       "3     44974    198425   10011     Apartment  Entire home/apt             2   \n",
       "4   4701675  22590025   10011     Apartment  Entire home/apt             2   \n",
       "5     68914    343302   11231     Apartment  Entire home/apt             6   \n",
       "6   4832596   4148973   11207     Apartment     Private room             2   \n",
       "7   2562510  13119459   10013     Apartment     Private room             2   \n",
       "8   3005360   4421803   10003     Apartment  Entire home/apt             4   \n",
       "9   2431607   4973668   11221     Apartment      Shared room             2   \n",
       "11  4833061  24879430   11221     Apartment     Private room             2   \n",
       "\n",
       "    bathrooms  bedrooms  beds  bed_type  price  minimum_nights  \\\n",
       "0         1.0       1.0   1.0  Real Bed  160.0               3   \n",
       "2         1.0       1.0   2.0  Real Bed   58.0               3   \n",
       "3         1.0       1.0   1.0  Real Bed  185.0              10   \n",
       "4         1.0       1.0   2.0  Real Bed  195.0               1   \n",
       "5         1.0       2.0   3.0  Real Bed  165.0               2   \n",
       "6         1.0       1.0   1.0  Real Bed   80.0               1   \n",
       "7         1.0       1.0   1.0  Real Bed  120.0               2   \n",
       "8         1.0       2.0   2.0  Real Bed  150.0               1   \n",
       "9         1.0       1.0   1.0  Real Bed   40.0               4   \n",
       "11        1.0       1.0   1.0  Real Bed   75.0               1   \n",
       "\n",
       "    availability_30  number_of_reviews review_scores_rating  \\\n",
       "0                21                 62                   86   \n",
       "2                 4                 35                   98   \n",
       "3                 1                 26                   96   \n",
       "4                30                  1                  100   \n",
       "5                11                 16                   96   \n",
       "6                29                  0           No Reviews   \n",
       "7                 5                  0           No Reviews   \n",
       "8                30                 14                   96   \n",
       "9                 0                 10                   94   \n",
       "11                2                  0           No Reviews   \n",
       "\n",
       "    host_listing_count  \n",
       "0                    1  \n",
       "2                    4  \n",
       "3                    1  \n",
       "4                    1  \n",
       "5                    2  \n",
       "6                    1  \n",
       "7                    1  \n",
       "8                    4  \n",
       "9                    4  \n",
       "11                   1  "
      ]
     },
     "execution_count": 37,
     "metadata": {},
     "output_type": "execute_result"
    }
   ],
   "source": [
    "data.head(10)"
   ]
  },
  {
   "cell_type": "code",
   "execution_count": 38,
   "metadata": {},
   "outputs": [],
   "source": [
    "# remove inconsistent NaN values\n",
    "data = data[~data['review_scores_rating'].isnull()]"
   ]
  },
  {
   "cell_type": "code",
   "execution_count": 39,
   "metadata": {},
   "outputs": [
    {
     "data": {
      "text/plain": [
       "24053"
      ]
     },
     "execution_count": 39,
     "metadata": {},
     "output_type": "execute_result"
    }
   ],
   "source": [
    "len(data)"
   ]
  },
  {
   "cell_type": "code",
   "execution_count": 40,
   "metadata": {},
   "outputs": [],
   "source": [
    "# ensure all zipcodes are of length 5\n",
    "data = data[data['zipcode'].map(len) == 5]"
   ]
  },
  {
   "cell_type": "code",
   "execution_count": 41,
   "metadata": {},
   "outputs": [
    {
     "data": {
      "text/plain": [
       "24050"
      ]
     },
     "execution_count": 41,
     "metadata": {},
     "output_type": "execute_result"
    }
   ],
   "source": [
    "len(data)"
   ]
  },
  {
   "cell_type": "code",
   "execution_count": 42,
   "metadata": {},
   "outputs": [],
   "source": [
    "data = data[data['zipcode'].apply(len) == 5]"
   ]
  },
  {
   "cell_type": "markdown",
   "metadata": {},
   "source": [
    "### 8. Convert review_scores_rating into different buckets"
   ]
  },
  {
   "cell_type": "code",
   "execution_count": 43,
   "metadata": {},
   "outputs": [],
   "source": [
    "def convert_scores_buckets(val):\n",
    "    if val == 'No Reviews':\n",
    "        return 'No Reviews'\n",
    "    elif val >= 95.0:\n",
    "        return '95-100'\n",
    "    elif val >= 90.0 and val < 95.0:\n",
    "        return '90-94'\n",
    "    elif val >= 85.0 and val < 90.0:\n",
    "        return '85-89'\n",
    "    elif val >= 80.0 and val < 85.0:\n",
    "        return '80-84'\n",
    "    elif val >= 70.0 and val < 80.0:\n",
    "        return '70-79'\n",
    "    elif val >= 60.0 and val < 70.0:\n",
    "        return '60-69'\n",
    "    elif val >= 50.0 and val < 60.0:\n",
    "        return '50-59'\n",
    "    elif val >= 40.0 and val < 50.0:\n",
    "        return '40-49'\n",
    "    elif val >= 30.0 and val < 40.0:\n",
    "        return '30-39'\n",
    "    elif val >= 20.0 and val < 30.0:\n",
    "        return '20-29'\n",
    "    elif val >= 10.0 and val < 20.0:\n",
    "        return '10-19'\n",
    "    elif val < 10.0:\n",
    "        return '0-9'"
   ]
  },
  {
   "cell_type": "code",
   "execution_count": 44,
   "metadata": {},
   "outputs": [
    {
     "name": "stdout",
     "output_type": "stream",
     "text": [
      "Unique Values in the Column: ['20-29' '30-39' '40-49' '50-59' '60-69' '70-79' '80-84' '85-89' '90-94'\n",
      " '95-100' 'No Reviews']\n"
     ]
    }
   ],
   "source": [
    "data['review_scores_rating'] = data['review_scores_rating'].apply(convert_scores_buckets)\n",
    "print ('Unique Values in the Column:', np.unique(data['review_scores_rating']))"
   ]
  },
  {
   "cell_type": "code",
   "execution_count": 45,
   "metadata": {},
   "outputs": [
    {
     "data": {
      "text/html": [
       "<div>\n",
       "<style scoped>\n",
       "    .dataframe tbody tr th:only-of-type {\n",
       "        vertical-align: middle;\n",
       "    }\n",
       "\n",
       "    .dataframe tbody tr th {\n",
       "        vertical-align: top;\n",
       "    }\n",
       "\n",
       "    .dataframe thead th {\n",
       "        text-align: right;\n",
       "    }\n",
       "</style>\n",
       "<table border=\"1\" class=\"dataframe\">\n",
       "  <thead>\n",
       "    <tr style=\"text-align: right;\">\n",
       "      <th></th>\n",
       "      <th>id</th>\n",
       "      <th>host_id</th>\n",
       "      <th>zipcode</th>\n",
       "      <th>property_type</th>\n",
       "      <th>room_type</th>\n",
       "      <th>accommodates</th>\n",
       "      <th>bathrooms</th>\n",
       "      <th>bedrooms</th>\n",
       "      <th>beds</th>\n",
       "      <th>bed_type</th>\n",
       "      <th>price</th>\n",
       "      <th>minimum_nights</th>\n",
       "      <th>availability_30</th>\n",
       "      <th>number_of_reviews</th>\n",
       "      <th>review_scores_rating</th>\n",
       "      <th>host_listing_count</th>\n",
       "    </tr>\n",
       "  </thead>\n",
       "  <tbody>\n",
       "    <tr>\n",
       "      <th>0</th>\n",
       "      <td>1069266</td>\n",
       "      <td>5867023</td>\n",
       "      <td>10022</td>\n",
       "      <td>Apartment</td>\n",
       "      <td>Entire home/apt</td>\n",
       "      <td>2</td>\n",
       "      <td>1.0</td>\n",
       "      <td>1.0</td>\n",
       "      <td>1.0</td>\n",
       "      <td>Real Bed</td>\n",
       "      <td>160.0</td>\n",
       "      <td>3</td>\n",
       "      <td>21</td>\n",
       "      <td>62</td>\n",
       "      <td>85-89</td>\n",
       "      <td>1</td>\n",
       "    </tr>\n",
       "    <tr>\n",
       "      <th>2</th>\n",
       "      <td>2061725</td>\n",
       "      <td>4601412</td>\n",
       "      <td>11221</td>\n",
       "      <td>Apartment</td>\n",
       "      <td>Private room</td>\n",
       "      <td>2</td>\n",
       "      <td>1.0</td>\n",
       "      <td>1.0</td>\n",
       "      <td>2.0</td>\n",
       "      <td>Real Bed</td>\n",
       "      <td>58.0</td>\n",
       "      <td>3</td>\n",
       "      <td>4</td>\n",
       "      <td>35</td>\n",
       "      <td>95-100</td>\n",
       "      <td>4</td>\n",
       "    </tr>\n",
       "    <tr>\n",
       "      <th>3</th>\n",
       "      <td>44974</td>\n",
       "      <td>198425</td>\n",
       "      <td>10011</td>\n",
       "      <td>Apartment</td>\n",
       "      <td>Entire home/apt</td>\n",
       "      <td>2</td>\n",
       "      <td>1.0</td>\n",
       "      <td>1.0</td>\n",
       "      <td>1.0</td>\n",
       "      <td>Real Bed</td>\n",
       "      <td>185.0</td>\n",
       "      <td>10</td>\n",
       "      <td>1</td>\n",
       "      <td>26</td>\n",
       "      <td>95-100</td>\n",
       "      <td>1</td>\n",
       "    </tr>\n",
       "    <tr>\n",
       "      <th>4</th>\n",
       "      <td>4701675</td>\n",
       "      <td>22590025</td>\n",
       "      <td>10011</td>\n",
       "      <td>Apartment</td>\n",
       "      <td>Entire home/apt</td>\n",
       "      <td>2</td>\n",
       "      <td>1.0</td>\n",
       "      <td>1.0</td>\n",
       "      <td>2.0</td>\n",
       "      <td>Real Bed</td>\n",
       "      <td>195.0</td>\n",
       "      <td>1</td>\n",
       "      <td>30</td>\n",
       "      <td>1</td>\n",
       "      <td>95-100</td>\n",
       "      <td>1</td>\n",
       "    </tr>\n",
       "    <tr>\n",
       "      <th>5</th>\n",
       "      <td>68914</td>\n",
       "      <td>343302</td>\n",
       "      <td>11231</td>\n",
       "      <td>Apartment</td>\n",
       "      <td>Entire home/apt</td>\n",
       "      <td>6</td>\n",
       "      <td>1.0</td>\n",
       "      <td>2.0</td>\n",
       "      <td>3.0</td>\n",
       "      <td>Real Bed</td>\n",
       "      <td>165.0</td>\n",
       "      <td>2</td>\n",
       "      <td>11</td>\n",
       "      <td>16</td>\n",
       "      <td>95-100</td>\n",
       "      <td>2</td>\n",
       "    </tr>\n",
       "    <tr>\n",
       "      <th>6</th>\n",
       "      <td>4832596</td>\n",
       "      <td>4148973</td>\n",
       "      <td>11207</td>\n",
       "      <td>Apartment</td>\n",
       "      <td>Private room</td>\n",
       "      <td>2</td>\n",
       "      <td>1.0</td>\n",
       "      <td>1.0</td>\n",
       "      <td>1.0</td>\n",
       "      <td>Real Bed</td>\n",
       "      <td>80.0</td>\n",
       "      <td>1</td>\n",
       "      <td>29</td>\n",
       "      <td>0</td>\n",
       "      <td>No Reviews</td>\n",
       "      <td>1</td>\n",
       "    </tr>\n",
       "    <tr>\n",
       "      <th>7</th>\n",
       "      <td>2562510</td>\n",
       "      <td>13119459</td>\n",
       "      <td>10013</td>\n",
       "      <td>Apartment</td>\n",
       "      <td>Private room</td>\n",
       "      <td>2</td>\n",
       "      <td>1.0</td>\n",
       "      <td>1.0</td>\n",
       "      <td>1.0</td>\n",
       "      <td>Real Bed</td>\n",
       "      <td>120.0</td>\n",
       "      <td>2</td>\n",
       "      <td>5</td>\n",
       "      <td>0</td>\n",
       "      <td>No Reviews</td>\n",
       "      <td>1</td>\n",
       "    </tr>\n",
       "    <tr>\n",
       "      <th>8</th>\n",
       "      <td>3005360</td>\n",
       "      <td>4421803</td>\n",
       "      <td>10003</td>\n",
       "      <td>Apartment</td>\n",
       "      <td>Entire home/apt</td>\n",
       "      <td>4</td>\n",
       "      <td>1.0</td>\n",
       "      <td>2.0</td>\n",
       "      <td>2.0</td>\n",
       "      <td>Real Bed</td>\n",
       "      <td>150.0</td>\n",
       "      <td>1</td>\n",
       "      <td>30</td>\n",
       "      <td>14</td>\n",
       "      <td>95-100</td>\n",
       "      <td>4</td>\n",
       "    </tr>\n",
       "    <tr>\n",
       "      <th>9</th>\n",
       "      <td>2431607</td>\n",
       "      <td>4973668</td>\n",
       "      <td>11221</td>\n",
       "      <td>Apartment</td>\n",
       "      <td>Shared room</td>\n",
       "      <td>2</td>\n",
       "      <td>1.0</td>\n",
       "      <td>1.0</td>\n",
       "      <td>1.0</td>\n",
       "      <td>Real Bed</td>\n",
       "      <td>40.0</td>\n",
       "      <td>4</td>\n",
       "      <td>0</td>\n",
       "      <td>10</td>\n",
       "      <td>90-94</td>\n",
       "      <td>4</td>\n",
       "    </tr>\n",
       "    <tr>\n",
       "      <th>11</th>\n",
       "      <td>4833061</td>\n",
       "      <td>24879430</td>\n",
       "      <td>11221</td>\n",
       "      <td>Apartment</td>\n",
       "      <td>Private room</td>\n",
       "      <td>2</td>\n",
       "      <td>1.0</td>\n",
       "      <td>1.0</td>\n",
       "      <td>1.0</td>\n",
       "      <td>Real Bed</td>\n",
       "      <td>75.0</td>\n",
       "      <td>1</td>\n",
       "      <td>2</td>\n",
       "      <td>0</td>\n",
       "      <td>No Reviews</td>\n",
       "      <td>1</td>\n",
       "    </tr>\n",
       "  </tbody>\n",
       "</table>\n",
       "</div>"
      ],
      "text/plain": [
       "         id   host_id zipcode property_type        room_type  accommodates  \\\n",
       "0   1069266   5867023   10022     Apartment  Entire home/apt             2   \n",
       "2   2061725   4601412   11221     Apartment     Private room             2   \n",
       "3     44974    198425   10011     Apartment  Entire home/apt             2   \n",
       "4   4701675  22590025   10011     Apartment  Entire home/apt             2   \n",
       "5     68914    343302   11231     Apartment  Entire home/apt             6   \n",
       "6   4832596   4148973   11207     Apartment     Private room             2   \n",
       "7   2562510  13119459   10013     Apartment     Private room             2   \n",
       "8   3005360   4421803   10003     Apartment  Entire home/apt             4   \n",
       "9   2431607   4973668   11221     Apartment      Shared room             2   \n",
       "11  4833061  24879430   11221     Apartment     Private room             2   \n",
       "\n",
       "    bathrooms  bedrooms  beds  bed_type  price  minimum_nights  \\\n",
       "0         1.0       1.0   1.0  Real Bed  160.0               3   \n",
       "2         1.0       1.0   2.0  Real Bed   58.0               3   \n",
       "3         1.0       1.0   1.0  Real Bed  185.0              10   \n",
       "4         1.0       1.0   2.0  Real Bed  195.0               1   \n",
       "5         1.0       2.0   3.0  Real Bed  165.0               2   \n",
       "6         1.0       1.0   1.0  Real Bed   80.0               1   \n",
       "7         1.0       1.0   1.0  Real Bed  120.0               2   \n",
       "8         1.0       2.0   2.0  Real Bed  150.0               1   \n",
       "9         1.0       1.0   1.0  Real Bed   40.0               4   \n",
       "11        1.0       1.0   1.0  Real Bed   75.0               1   \n",
       "\n",
       "    availability_30  number_of_reviews review_scores_rating  \\\n",
       "0                21                 62                85-89   \n",
       "2                 4                 35               95-100   \n",
       "3                 1                 26               95-100   \n",
       "4                30                  1               95-100   \n",
       "5                11                 16               95-100   \n",
       "6                29                  0           No Reviews   \n",
       "7                 5                  0           No Reviews   \n",
       "8                30                 14               95-100   \n",
       "9                 0                 10                90-94   \n",
       "11                2                  0           No Reviews   \n",
       "\n",
       "    host_listing_count  \n",
       "0                    1  \n",
       "2                    4  \n",
       "3                    1  \n",
       "4                    1  \n",
       "5                    2  \n",
       "6                    1  \n",
       "7                    1  \n",
       "8                    4  \n",
       "9                    4  \n",
       "11                   1  "
      ]
     },
     "execution_count": 45,
     "metadata": {},
     "output_type": "execute_result"
    }
   ],
   "source": [
    "data.head(10)"
   ]
  },
  {
   "cell_type": "code",
   "execution_count": 46,
   "metadata": {},
   "outputs": [
    {
     "name": "stdout",
     "output_type": "stream",
     "text": [
      "Number of remaining records: 24050\n"
     ]
    }
   ],
   "source": [
    "print ('Number of remaining records:', len(data))"
   ]
  },
  {
   "cell_type": "markdown",
   "metadata": {},
   "source": [
    "### 9. Encode categorical variables"
   ]
  },
  {
   "cell_type": "code",
   "execution_count": 47,
   "metadata": {},
   "outputs": [],
   "source": [
    "property_dummies = pd.get_dummies(data['property_type'])\n",
    "room_dummies = pd.get_dummies(data['room_type'])\n",
    "bed_dummies = pd.get_dummies(data['bed_type'])"
   ]
  },
  {
   "cell_type": "markdown",
   "metadata": {},
   "source": [
    "### 10. Replace the old columns with our new one-hot encoded ones"
   ]
  },
  {
   "cell_type": "code",
   "execution_count": 48,
   "metadata": {},
   "outputs": [
    {
     "name": "stdout",
     "output_type": "stream",
     "text": [
      "Number of Columns: 39\n"
     ]
    }
   ],
   "source": [
    "df = pd.concat((data.drop(['property_type', 'room_type', 'bed_type'], axis=1), \\\n",
    "     property_dummies.astype(int), room_dummies.astype(int), bed_dummies.astype(int)), \\\n",
    "     axis=1)\n",
    "\n",
    "print ('Number of Columns:', len(df.columns))"
   ]
  },
  {
   "cell_type": "markdown",
   "metadata": {},
   "source": [
    "### 11. Move target predictor 'price' to the end of the dataframe"
   ]
  },
  {
   "cell_type": "code",
   "execution_count": 49,
   "metadata": {},
   "outputs": [],
   "source": [
    "cols = list(df.columns.values)\n",
    "idx = cols.index('price')\n",
    "rearrange_cols = cols[:idx] + cols[idx+1:] + [cols[idx]]\n",
    "df = df[rearrange_cols]"
   ]
  },
  {
   "cell_type": "markdown",
   "metadata": {},
   "source": [
    "### 12. Convert non-categorical variables to floats and normalize"
   ]
  },
  {
   "cell_type": "code",
   "execution_count": 50,
   "metadata": {},
   "outputs": [],
   "source": [
    "def normalize(col):\n",
    "    mean = np.mean(col)\n",
    "    std = np.std(col)\n",
    "    return col.apply(lambda x: (x - mean) / std)\n",
    "\n",
    "non_cat_vars = ['accommodates', 'bedrooms', 'beds', 'number_of_reviews', 'host_listing_count', 'availability_30', 'minimum_nights', 'bathrooms']\n",
    "for col in non_cat_vars:\n",
    "    df[col] = df[col].astype(float)\n",
    "    df[col] = normalize(df[col])"
   ]
  },
  {
   "cell_type": "code",
   "execution_count": 51,
   "metadata": {},
   "outputs": [
    {
     "data": {
      "text/html": [
       "<div>\n",
       "<style scoped>\n",
       "    .dataframe tbody tr th:only-of-type {\n",
       "        vertical-align: middle;\n",
       "    }\n",
       "\n",
       "    .dataframe tbody tr th {\n",
       "        vertical-align: top;\n",
       "    }\n",
       "\n",
       "    .dataframe thead th {\n",
       "        text-align: right;\n",
       "    }\n",
       "</style>\n",
       "<table border=\"1\" class=\"dataframe\">\n",
       "  <thead>\n",
       "    <tr style=\"text-align: right;\">\n",
       "      <th></th>\n",
       "      <th>id</th>\n",
       "      <th>host_id</th>\n",
       "      <th>zipcode</th>\n",
       "      <th>accommodates</th>\n",
       "      <th>bathrooms</th>\n",
       "      <th>bedrooms</th>\n",
       "      <th>beds</th>\n",
       "      <th>minimum_nights</th>\n",
       "      <th>availability_30</th>\n",
       "      <th>number_of_reviews</th>\n",
       "      <th>...</th>\n",
       "      <th>Villa</th>\n",
       "      <th>Entire home/apt</th>\n",
       "      <th>Private room</th>\n",
       "      <th>Shared room</th>\n",
       "      <th>Airbed</th>\n",
       "      <th>Couch</th>\n",
       "      <th>Futon</th>\n",
       "      <th>Pull-out Sofa</th>\n",
       "      <th>Real Bed</th>\n",
       "      <th>price</th>\n",
       "    </tr>\n",
       "  </thead>\n",
       "  <tbody>\n",
       "    <tr>\n",
       "      <th>0</th>\n",
       "      <td>1069266</td>\n",
       "      <td>5867023</td>\n",
       "      <td>10022</td>\n",
       "      <td>-0.520266</td>\n",
       "      <td>-0.331542</td>\n",
       "      <td>-0.407402</td>\n",
       "      <td>-0.493039</td>\n",
       "      <td>0.173906</td>\n",
       "      <td>0.390393</td>\n",
       "      <td>2.716107</td>\n",
       "      <td>...</td>\n",
       "      <td>0</td>\n",
       "      <td>1</td>\n",
       "      <td>0</td>\n",
       "      <td>0</td>\n",
       "      <td>0</td>\n",
       "      <td>0</td>\n",
       "      <td>0</td>\n",
       "      <td>0</td>\n",
       "      <td>1</td>\n",
       "      <td>160.0</td>\n",
       "    </tr>\n",
       "    <tr>\n",
       "      <th>2</th>\n",
       "      <td>2061725</td>\n",
       "      <td>4601412</td>\n",
       "      <td>11221</td>\n",
       "      <td>-0.520266</td>\n",
       "      <td>-0.331542</td>\n",
       "      <td>-0.407402</td>\n",
       "      <td>0.381672</td>\n",
       "      <td>0.173906</td>\n",
       "      <td>-0.965897</td>\n",
       "      <td>1.295605</td>\n",
       "      <td>...</td>\n",
       "      <td>0</td>\n",
       "      <td>0</td>\n",
       "      <td>1</td>\n",
       "      <td>0</td>\n",
       "      <td>0</td>\n",
       "      <td>0</td>\n",
       "      <td>0</td>\n",
       "      <td>0</td>\n",
       "      <td>1</td>\n",
       "      <td>58.0</td>\n",
       "    </tr>\n",
       "    <tr>\n",
       "      <th>3</th>\n",
       "      <td>44974</td>\n",
       "      <td>198425</td>\n",
       "      <td>10011</td>\n",
       "      <td>-0.520266</td>\n",
       "      <td>-0.331542</td>\n",
       "      <td>-0.407402</td>\n",
       "      <td>-0.493039</td>\n",
       "      <td>2.889531</td>\n",
       "      <td>-1.205242</td>\n",
       "      <td>0.822104</td>\n",
       "      <td>...</td>\n",
       "      <td>0</td>\n",
       "      <td>1</td>\n",
       "      <td>0</td>\n",
       "      <td>0</td>\n",
       "      <td>0</td>\n",
       "      <td>0</td>\n",
       "      <td>0</td>\n",
       "      <td>0</td>\n",
       "      <td>1</td>\n",
       "      <td>185.0</td>\n",
       "    </tr>\n",
       "    <tr>\n",
       "      <th>4</th>\n",
       "      <td>4701675</td>\n",
       "      <td>22590025</td>\n",
       "      <td>10011</td>\n",
       "      <td>-0.520266</td>\n",
       "      <td>-0.331542</td>\n",
       "      <td>-0.407402</td>\n",
       "      <td>0.381672</td>\n",
       "      <td>-0.601986</td>\n",
       "      <td>1.108429</td>\n",
       "      <td>-0.493176</td>\n",
       "      <td>...</td>\n",
       "      <td>0</td>\n",
       "      <td>1</td>\n",
       "      <td>0</td>\n",
       "      <td>0</td>\n",
       "      <td>0</td>\n",
       "      <td>0</td>\n",
       "      <td>0</td>\n",
       "      <td>0</td>\n",
       "      <td>1</td>\n",
       "      <td>195.0</td>\n",
       "    </tr>\n",
       "    <tr>\n",
       "      <th>5</th>\n",
       "      <td>68914</td>\n",
       "      <td>343302</td>\n",
       "      <td>11231</td>\n",
       "      <td>1.690892</td>\n",
       "      <td>-0.331542</td>\n",
       "      <td>1.266328</td>\n",
       "      <td>1.256383</td>\n",
       "      <td>-0.214040</td>\n",
       "      <td>-0.407424</td>\n",
       "      <td>0.295992</td>\n",
       "      <td>...</td>\n",
       "      <td>0</td>\n",
       "      <td>1</td>\n",
       "      <td>0</td>\n",
       "      <td>0</td>\n",
       "      <td>0</td>\n",
       "      <td>0</td>\n",
       "      <td>0</td>\n",
       "      <td>0</td>\n",
       "      <td>1</td>\n",
       "      <td>165.0</td>\n",
       "    </tr>\n",
       "  </tbody>\n",
       "</table>\n",
       "<p>5 rows × 39 columns</p>\n",
       "</div>"
      ],
      "text/plain": [
       "        id   host_id zipcode  accommodates  bathrooms  bedrooms      beds  \\\n",
       "0  1069266   5867023   10022     -0.520266  -0.331542 -0.407402 -0.493039   \n",
       "2  2061725   4601412   11221     -0.520266  -0.331542 -0.407402  0.381672   \n",
       "3    44974    198425   10011     -0.520266  -0.331542 -0.407402 -0.493039   \n",
       "4  4701675  22590025   10011     -0.520266  -0.331542 -0.407402  0.381672   \n",
       "5    68914    343302   11231      1.690892  -0.331542  1.266328  1.256383   \n",
       "\n",
       "   minimum_nights  availability_30  number_of_reviews  ...   Villa  \\\n",
       "0        0.173906         0.390393           2.716107  ...       0   \n",
       "2        0.173906        -0.965897           1.295605  ...       0   \n",
       "3        2.889531        -1.205242           0.822104  ...       0   \n",
       "4       -0.601986         1.108429          -0.493176  ...       0   \n",
       "5       -0.214040        -0.407424           0.295992  ...       0   \n",
       "\n",
       "   Entire home/apt  Private room  Shared room  Airbed  Couch  Futon  \\\n",
       "0                1             0            0       0      0      0   \n",
       "2                0             1            0       0      0      0   \n",
       "3                1             0            0       0      0      0   \n",
       "4                1             0            0       0      0      0   \n",
       "5                1             0            0       0      0      0   \n",
       "\n",
       "   Pull-out Sofa  Real Bed  price  \n",
       "0              0         1  160.0  \n",
       "2              0         1   58.0  \n",
       "3              0         1  185.0  \n",
       "4              0         1  195.0  \n",
       "5              0         1  165.0  \n",
       "\n",
       "[5 rows x 39 columns]"
      ]
     },
     "execution_count": 51,
     "metadata": {},
     "output_type": "execute_result"
    }
   ],
   "source": [
    "df.head()"
   ]
  },
  {
   "cell_type": "code",
   "execution_count": 52,
   "metadata": {},
   "outputs": [
    {
     "data": {
      "image/png": "[encoded data removed]",
      "text/plain": [
       "<Figure size 432x288 with 1 Axes>"
      ]
     },
     "metadata": {
      "needs_background": "light"
     },
     "output_type": "display_data"
    }
   ],
   "source": [
    "# visualize distribution of price (target variable)\n",
    "plt.hist(df['price'], bins=50)\n",
    "plt.title(\"Histogram of Pricing\")\n",
    "plt.xlabel(\"Pricing (USD) Per Day\")\n",
    "plt.ylabel(\"Frequency\")\n",
    "plt.show()"
   ]
  },
  {
   "cell_type": "code",
   "execution_count": 53,
   "metadata": {},
   "outputs": [
    {
     "data": {
      "image/png": "[encoded data removed]",
      "text/plain": [
       "<Figure size 432x288 with 1 Axes>"
      ]
     },
     "metadata": {
      "needs_background": "light"
     },
     "output_type": "display_data"
    }
   ],
   "source": [
    "# Histogram of Pricing indicates Pricing is pretty skewed\n",
    "# log transform the response 'price'\n",
    "df['price_log'] = df['price'].apply(lambda x: math.log(x))\n",
    "\n",
    "plt.hist(df['price_log'], bins=30)\n",
    "plt.title(\"Histogram of Pricing Log-Transformed\")\n",
    "plt.xlabel(\"Pricing (USD) Per Day\")\n",
    "plt.ylabel(\"Frequency\")\n",
    "plt.show()"
   ]
  },
  {
   "cell_type": "code",
   "execution_count": 38,
   "metadata": {
    "collapsed": true
   },
   "outputs": [],
   "source": [
    "# read to csv\n",
    "df.to_csv('output.csv')"
   ]
  }
 ],
 "metadata": {
  "kernelspec": {
   "display_name": "Python 3",
   "language": "python",
   "name": "python3"
  },
  "language_info": {
   "codemirror_mode": {
    "name": "ipython",
    "version": 3
   },
   "file_extension": ".py",
   "mimetype": "text/x-python",
   "name": "python",
   "nbconvert_exporter": "python",
   "pygments_lexer": "ipython3",
   "version": "3.6.6"
  }
 },
 "nbformat": 4,
 "nbformat_minor": 2
}
