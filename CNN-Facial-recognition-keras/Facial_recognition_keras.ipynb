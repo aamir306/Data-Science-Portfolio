{
 "cells": [
  {
   "cell_type": "markdown",
   "metadata": {},
   "source": [
    "Steps -\n",
    "    1. Importing libaries and label file\n",
    "    2. Creating functions for image manipulation\n",
    "    3. Prepare the data to feed into model\n",
    "    4. Buliding the model\n",
    "    5. Train the Model\n",
    "    6. Test image on new images"
   ]
  },
  {
   "cell_type": "markdown",
   "metadata": {},
   "source": [
    "### 1. Importing libraries and label file"
   ]
  },
  {
   "cell_type": "code",
   "execution_count": 1,
   "metadata": {},
   "outputs": [],
   "source": [
    "import numpy as np  # linear algebra\n",
    "import pandas as pd # data processing\n",
    "\n",
    "from sklearn.model_selection import train_test_split \n",
    "from tqdm import tqdm  #to track process\n",
    "\n",
    "# image handling\n",
    "import cv2          \n",
    "from PIL import Image\n",
    "import dlib\n",
    "import matplotlib.pyplot as plt"
   ]
  },
  {
   "cell_type": "code",
   "execution_count": 2,
   "metadata": {},
   "outputs": [
    {
     "data": {
      "text/html": [
       "<div>\n",
       "<style scoped>\n",
       "    .dataframe tbody tr th:only-of-type {\n",
       "        vertical-align: middle;\n",
       "    }\n",
       "\n",
       "    .dataframe tbody tr th {\n",
       "        vertical-align: top;\n",
       "    }\n",
       "\n",
       "    .dataframe thead th {\n",
       "        text-align: right;\n",
       "    }\n",
       "</style>\n",
       "<table border=\"1\" class=\"dataframe\">\n",
       "  <thead>\n",
       "    <tr style=\"text-align: right;\">\n",
       "      <th></th>\n",
       "      <th>Unnamed: 0</th>\n",
       "      <th>file_name</th>\n",
       "      <th>train</th>\n",
       "      <th>test</th>\n",
       "      <th>aishwarya</th>\n",
       "      <th>alia</th>\n",
       "      <th>amitabh</th>\n",
       "      <th>salman</th>\n",
       "      <th>shahrukh</th>\n",
       "    </tr>\n",
       "  </thead>\n",
       "  <tbody>\n",
       "    <tr>\n",
       "      <th>0</th>\n",
       "      <td>0</td>\n",
       "      <td>test_aishwarya1.jpg</td>\n",
       "      <td>0</td>\n",
       "      <td>1</td>\n",
       "      <td>1</td>\n",
       "      <td>0</td>\n",
       "      <td>0</td>\n",
       "      <td>0</td>\n",
       "      <td>0</td>\n",
       "    </tr>\n",
       "    <tr>\n",
       "      <th>1</th>\n",
       "      <td>1</td>\n",
       "      <td>test_aishwarya2.jpg</td>\n",
       "      <td>0</td>\n",
       "      <td>1</td>\n",
       "      <td>1</td>\n",
       "      <td>0</td>\n",
       "      <td>0</td>\n",
       "      <td>0</td>\n",
       "      <td>0</td>\n",
       "    </tr>\n",
       "    <tr>\n",
       "      <th>2</th>\n",
       "      <td>2</td>\n",
       "      <td>test_aishwarya3.jpg</td>\n",
       "      <td>0</td>\n",
       "      <td>1</td>\n",
       "      <td>1</td>\n",
       "      <td>0</td>\n",
       "      <td>0</td>\n",
       "      <td>0</td>\n",
       "      <td>0</td>\n",
       "    </tr>\n",
       "    <tr>\n",
       "      <th>3</th>\n",
       "      <td>3</td>\n",
       "      <td>test_aishwarya4.jpg</td>\n",
       "      <td>0</td>\n",
       "      <td>1</td>\n",
       "      <td>1</td>\n",
       "      <td>0</td>\n",
       "      <td>0</td>\n",
       "      <td>0</td>\n",
       "      <td>0</td>\n",
       "    </tr>\n",
       "    <tr>\n",
       "      <th>4</th>\n",
       "      <td>4</td>\n",
       "      <td>test_alia1.jpg</td>\n",
       "      <td>0</td>\n",
       "      <td>1</td>\n",
       "      <td>0</td>\n",
       "      <td>1</td>\n",
       "      <td>0</td>\n",
       "      <td>0</td>\n",
       "      <td>0</td>\n",
       "    </tr>\n",
       "  </tbody>\n",
       "</table>\n",
       "</div>"
      ],
      "text/plain": [
       "   Unnamed: 0            file_name  train  test  aishwarya  alia  amitabh  \\\n",
       "0           0  test_aishwarya1.jpg      0     1          1     0        0   \n",
       "1           1  test_aishwarya2.jpg      0     1          1     0        0   \n",
       "2           2  test_aishwarya3.jpg      0     1          1     0        0   \n",
       "3           3  test_aishwarya4.jpg      0     1          1     0        0   \n",
       "4           4       test_alia1.jpg      0     1          0     1        0   \n",
       "\n",
       "   salman  shahrukh  \n",
       "0       0         0  \n",
       "1       0         0  \n",
       "2       0         0  \n",
       "3       0         0  \n",
       "4       0         0  "
      ]
     },
     "execution_count": 2,
     "metadata": {},
     "output_type": "execute_result"
    }
   ],
   "source": [
    "df = pd.read_csv('label.csv')    \n",
    "df.head(5)             "
   ]
  },
  {
   "cell_type": "markdown",
   "metadata": {},
   "source": [
    "### 2. Creating functions for image manipulation"
   ]
  },
  {
   "cell_type": "code",
   "execution_count": 3,
   "metadata": {},
   "outputs": [],
   "source": [
    "def crop_face(img_path):       #crop the excessive part of image i.e noise\n",
    "    def detect_faces(image):\n",
    "\n",
    "        # Create a face detector\n",
    "        face_detector = dlib.get_frontal_face_detector()\n",
    "\n",
    "        # Run detector and get bounding boxes of the faces on image.\n",
    "        detected_faces = face_detector(image, 1)\n",
    "        face_frames = [(x.left(), x.top(),\n",
    "                        x.right(), x.bottom()) for x in detected_faces]\n",
    "\n",
    "        return face_frames\n",
    "\n",
    "    # Load image\n",
    "    image = cv2.imread(img_path)\n",
    "\n",
    "    # Detect faces\n",
    "    detected_faces = detect_faces(image)\n",
    "\n",
    "    # Crop faces and plot\n",
    "    for n, face_rect in enumerate(detected_faces):\n",
    "        face = Image.fromarray(image).crop(face_rect)\n",
    "        crop_pix = np.array(face)\n",
    "        return crop_pix"
   ]
  },
  {
   "cell_type": "code",
   "execution_count": 7,
   "metadata": {},
   "outputs": [],
   "source": [
    "def resize_image(image_name): #resize the image in 128x128 size\n",
    "    desired_size = 128\n",
    "    old_size = image_name.shape[:2]\n",
    "    ratio = float(desired_size)/max(old_size)\n",
    "    new_size = tuple([int(x*ratio) for x in old_size])\n",
    "    # new_size should be in (width, height) format\n",
    "    im = cv2.resize(image_name, (new_size[1], new_size[0]))\n",
    "    delta_w = desired_size - new_size[1]\n",
    "    delta_h = desired_size - new_size[0]\n",
    "    top, bottom = delta_h//2, delta_h-(delta_h//2)\n",
    "    left, right = delta_w//2, delta_w-(delta_w//2)\n",
    "    color = [0, 0, 0]\n",
    "    color_crop_img = cv2.copyMakeBorder(im, top, bottom, left, right, cv2.BORDER_CONSTANT,value=color)\n",
    "    new_im=cv2.cvtColor(color_crop_img, cv2.COLOR_BGR2GRAY) #convert color image into black and white image\n",
    "    return new_im"
   ]
  },
  {
   "cell_type": "markdown",
   "metadata": {},
   "source": [
    "### 3. Prepare the data to feed into model"
   ]
  },
  {
   "cell_type": "code",
   "execution_count": 8,
   "metadata": {},
   "outputs": [],
   "source": [
    "train=df[df.train==1]\n",
    "test=df[df.test==1]"
   ]
  },
  {
   "cell_type": "code",
   "execution_count": 9,
   "metadata": {},
   "outputs": [
    {
     "name": "stderr",
     "output_type": "stream",
     "text": [
      "100%|████████████████████████████████████████| 150/150 [07:41<00:00,  2.32s/it]\n",
      "150it [00:00, 1001.05it/s]\n",
      "100%|██████████████████████████████████████████| 20/20 [00:50<00:00,  2.28s/it]\n",
      "20it [00:00, 1110.35it/s]\n"
     ]
    },
    {
     "name": "stdout",
     "output_type": "stream",
     "text": [
      "Train feature - (150, 128, 128)\n",
      "Train labels - (150, 5)\n",
      "Test features - (20, 128, 128)\n",
      "Test labels - (20, 5)\n"
     ]
    }
   ],
   "source": [
    "train_x_features = []\n",
    "train_y_features = []\n",
    "test_x_features = []\n",
    "test_y_features = []\n",
    "\n",
    "for f in tqdm(train.file_name): # f for format\n",
    "    train_face_detect=crop_face('{}'.format(f))\n",
    "    train_img_resize = resize_image(train_face_detect)\n",
    "    train_x_features.append(train_img_resize )      \n",
    "for index, row in tqdm(train.iterrows()):\n",
    "    x= (row['aishwarya'], row['alia'],row['amitabh'],row['salman'],row['shahrukh'])\n",
    "    train_y_features.append(x)     \n",
    "\n",
    "for f in tqdm(test.file_name): # f for format\n",
    "    test_face_detect=crop_face('{}'.format(f))\n",
    "    test_img_resize = resize_image(test_face_detect)\n",
    "    test_x_features.append(test_img_resize)\n",
    "for index, row in tqdm(test.iterrows()):\n",
    "    x1= (row['aishwarya'], row['alia'],row['amitabh'],row['salman'],row['shahrukh'])\n",
    "    test_y_features.append(x1) \n",
    "    \n",
    "\n",
    "print (\"Train feature -\",np.array(train_x_features).shape)\n",
    "print (\"Train labels -\",np.array(train_y_features).shape)\n",
    "print (\"Test features -\",np.array(test_x_features).shape)\n",
    "print (\"Test labels -\",np.array(test_y_features).shape)"
   ]
  },
  {
   "cell_type": "code",
   "execution_count": 10,
   "metadata": {},
   "outputs": [
    {
     "name": "stdout",
     "output_type": "stream",
     "text": [
      "(150, 128, 128) (20, 128, 128)\n",
      "(150, 128, 128, 1) (20, 128, 128, 1)\n"
     ]
    }
   ],
   "source": [
    "train_x = np.array(train_x_features, np.float32) / 255.   # /= 255 for normolisation\n",
    "test_x = np.array(test_x_features, np.float32) / 255.\n",
    "print (train_x.shape,test_x.shape)\n",
    "\n",
    "\n",
    "train_x = np.expand_dims(train_x, axis = 3)\n",
    "test_x = np.expand_dims(test_x, axis = 3)\n",
    "print (train_x.shape,test_x.shape)"
   ]
  },
  {
   "cell_type": "code",
   "execution_count": 11,
   "metadata": {},
   "outputs": [],
   "source": [
    "train_y = np.array(train_y_features, np.uint8)\n",
    "test_y = np.array(test_y_features, np.uint8)"
   ]
  },
  {
   "cell_type": "markdown",
   "metadata": {},
   "source": [
    "### 4. Buliding the model"
   ]
  },
  {
   "cell_type": "code",
   "execution_count": 12,
   "metadata": {},
   "outputs": [
    {
     "name": "stderr",
     "output_type": "stream",
     "text": [
      "Using TensorFlow backend.\n"
     ]
    }
   ],
   "source": [
    "img_rows=128\n",
    "img_cols=128\n",
    "num_channel=1\n",
    "\n",
    "from keras.models import Sequential\n",
    "from keras.layers import Dense, Conv2D, MaxPooling2D, Dropout, Flatten\n",
    "def createModel():\n",
    "    model = Sequential()\n",
    "    model.add(Conv2D(32, (3, 3), padding='same', activation='relu', input_shape= (img_rows, img_cols, num_channel)))\n",
    "    model.add(Conv2D(32, (3, 3), activation='relu'))\n",
    "    model.add(MaxPooling2D(pool_size=(2, 2)))\n",
    "    model.add(Dropout(0.25))\n",
    " \n",
    "    model.add(Conv2D(64, (3, 3), padding='same', activation='relu'))\n",
    "    model.add(Conv2D(64, (3, 3), activation='relu'))\n",
    "    model.add(MaxPooling2D(pool_size=(2, 2)))\n",
    "    model.add(Dropout(0.25))\n",
    " \n",
    "    model.add(Conv2D(64, (3, 3), padding='same', activation='relu'))\n",
    "    model.add(Conv2D(64, (3, 3), activation='relu'))\n",
    "    model.add(MaxPooling2D(pool_size=(2, 2)))\n",
    "    model.add(Dropout(0.25))\n",
    " \n",
    "    model.add(Flatten())\n",
    "    model.add(Dense(512, activation='relu'))\n",
    "    model.add(Dropout(0.5))\n",
    "    model.add(Dense(5, activation='softmax')) #nclass = 5\n",
    "     \n",
    "    return model"
   ]
  },
  {
   "cell_type": "markdown",
   "metadata": {},
   "source": [
    "### 5. Train the Model"
   ]
  },
  {
   "cell_type": "code",
   "execution_count": 26,
   "metadata": {},
   "outputs": [
    {
     "name": "stdout",
     "output_type": "stream",
     "text": [
      "Epoch 1/150\n",
      "5/5 [==============================] - ETA: 32s - loss: 1.6324 - acc: 0.09 - ETA: 21s - loss: 4.4249 - acc: 0.17 - ETA: 13s - loss: 3.5394 - acc: 0.17 - ETA: 6s - loss: 3.0601 - acc: 0.1555 - 31s 6s/step - loss: 2.7781 - acc: 0.1754 - val_loss: 1.6153 - val_acc: 0.2000\n",
      "Epoch 2/150\n",
      "5/5 [==============================] - ETA: 18s - loss: 1.5819 - acc: 0.43 - ETA: 13s - loss: 1.5796 - acc: 0.34 - ETA: 9s - loss: 1.6291 - acc: 0.2812 - ETA: 4s - loss: 1.6318 - acc: 0.245 - 23s 5s/step - loss: 1.6271 - acc: 0.2283 - val_loss: 1.6094 - val_acc: 0.2000\n",
      "Epoch 3/150\n",
      "5/5 [==============================] - ETA: 13s - loss: 1.6111 - acc: 0.31 - ETA: 12s - loss: 1.6092 - acc: 0.26 - ETA: 8s - loss: 1.6077 - acc: 0.3144 - ETA: 4s - loss: 1.6082 - acc: 0.290 - 23s 5s/step - loss: 1.6095 - acc: 0.2567 - val_loss: 1.6096 - val_acc: 0.1500\n",
      "Epoch 4/150\n",
      "5/5 [==============================] - ETA: 18s - loss: 1.6224 - acc: 0.12 - ETA: 13s - loss: 1.6149 - acc: 0.17 - ETA: 9s - loss: 1.6151 - acc: 0.1667 - ETA: 4s - loss: 1.6135 - acc: 0.159 - 23s 5s/step - loss: 1.6120 - acc: 0.1904 - val_loss: 1.6093 - val_acc: 0.2000\n",
      "Epoch 5/150\n",
      "5/5 [==============================] - ETA: 12s - loss: 1.6068 - acc: 0.18 - ETA: 11s - loss: 1.6112 - acc: 0.16 - ETA: 8s - loss: 1.6101 - acc: 0.1856 - ETA: 4s - loss: 1.6087 - acc: 0.225 - 22s 4s/step - loss: 1.6091 - acc: 0.1991 - val_loss: 1.6080 - val_acc: 0.2500\n",
      "Epoch 6/150\n",
      "5/5 [==============================] - ETA: 18s - loss: 1.5970 - acc: 0.25 - ETA: 13s - loss: 1.6095 - acc: 0.23 - ETA: 8s - loss: 1.6090 - acc: 0.2320 - ETA: 4s - loss: 1.6072 - acc: 0.228 - 22s 4s/step - loss: 1.6093 - acc: 0.1951 - val_loss: 1.6094 - val_acc: 0.2000\n",
      "Epoch 7/150\n",
      "5/5 [==============================] - ETA: 12s - loss: 1.6117 - acc: 0.22 - ETA: 11s - loss: 1.6052 - acc: 0.28 - ETA: 8s - loss: 1.6058 - acc: 0.2841 - ETA: 4s - loss: 1.6019 - acc: 0.299 - 23s 5s/step - loss: 1.6114 - acc: 0.2709 - val_loss: 1.6093 - val_acc: 0.2000\n",
      "Epoch 8/150\n",
      "5/5 [==============================] - ETA: 12s - loss: 1.6077 - acc: 0.18 - ETA: 12s - loss: 1.6233 - acc: 0.21 - ETA: 8s - loss: 1.6134 - acc: 0.2169 - ETA: 4s - loss: 1.6015 - acc: 0.233 - 24s 5s/step - loss: 1.6267 - acc: 0.2117 - val_loss: 1.6093 - val_acc: 0.2000\n",
      "Epoch 9/150\n",
      "5/5 [==============================] - ETA: 19s - loss: 1.6100 - acc: 0.15 - ETA: 14s - loss: 1.6070 - acc: 0.28 - ETA: 9s - loss: 1.6067 - acc: 0.2812 - ETA: 4s - loss: 1.6082 - acc: 0.250 - 23s 5s/step - loss: 1.6060 - acc: 0.2457 - val_loss: 1.5990 - val_acc: 0.2000\n",
      "Epoch 10/150\n",
      "5/5 [==============================] - ETA: 17s - loss: 1.5544 - acc: 0.31 - ETA: 13s - loss: 1.5547 - acc: 0.28 - ETA: 9s - loss: 1.5693 - acc: 0.2812 - ETA: 4s - loss: 1.5913 - acc: 0.245 - 22s 4s/step - loss: 1.5931 - acc: 0.2599 - val_loss: 1.6050 - val_acc: 0.3500\n",
      "Epoch 11/150\n",
      "5/5 [==============================] - ETA: 17s - loss: 1.5993 - acc: 0.40 - ETA: 13s - loss: 1.5984 - acc: 0.35 - ETA: 8s - loss: 1.5936 - acc: 0.3854 - ETA: 4s - loss: 1.6029 - acc: 0.334 - 22s 4s/step - loss: 1.6000 - acc: 0.3128 - val_loss: 1.5864 - val_acc: 0.2000\n",
      "Epoch 12/150\n",
      "5/5 [==============================] - ETA: 17s - loss: 1.5471 - acc: 0.25 - ETA: 13s - loss: 1.6651 - acc: 0.20 - ETA: 9s - loss: 1.6466 - acc: 0.2083 - ETA: 4s - loss: 1.6389 - acc: 0.226 - 22s 4s/step - loss: 1.6335 - acc: 0.2441 - val_loss: 1.6044 - val_acc: 0.4000\n",
      "Epoch 13/150\n",
      "5/5 [==============================] - ETA: 17s - loss: 1.6041 - acc: 0.40 - ETA: 13s - loss: 1.5999 - acc: 0.34 - ETA: 8s - loss: 1.6009 - acc: 0.2917 - ETA: 4s - loss: 1.5972 - acc: 0.264 - 22s 4s/step - loss: 1.5917 - acc: 0.2749 - val_loss: 1.5506 - val_acc: 0.3500\n",
      "Epoch 14/150\n",
      "5/5 [==============================] - ETA: 18s - loss: 1.5229 - acc: 0.34 - ETA: 13s - loss: 1.8015 - acc: 0.26 - ETA: 9s - loss: 1.7384 - acc: 0.2708 - ETA: 4s - loss: 1.6836 - acc: 0.294 - 22s 4s/step - loss: 1.6511 - acc: 0.2844 - val_loss: 1.5475 - val_acc: 0.3500\n",
      "Epoch 15/150\n",
      "5/5 [==============================] - ETA: 18s - loss: 1.5046 - acc: 0.37 - ETA: 13s - loss: 1.4923 - acc: 0.35 - ETA: 8s - loss: 1.4950 - acc: 0.3542 - ETA: 4s - loss: 1.4628 - acc: 0.379 - 22s 4s/step - loss: 1.5076 - acc: 0.3523 - val_loss: 1.4978 - val_acc: 0.4000\n",
      "Epoch 16/150\n",
      "5/5 [==============================] - ETA: 18s - loss: 1.4413 - acc: 0.37 - ETA: 13s - loss: 1.3732 - acc: 0.42 - ETA: 9s - loss: 1.3889 - acc: 0.4167 - ETA: 4s - loss: 1.4428 - acc: 0.369 - 22s 4s/step - loss: 1.4553 - acc: 0.3468 - val_loss: 1.4483 - val_acc: 0.5500\n",
      "Epoch 17/150\n",
      "5/5 [==============================] - ETA: 18s - loss: 1.4115 - acc: 0.53 - ETA: 13s - loss: 1.3845 - acc: 0.48 - ETA: 9s - loss: 1.4266 - acc: 0.4583 - ETA: 4s - loss: 1.3813 - acc: 0.480 - 23s 5s/step - loss: 1.3608 - acc: 0.4771 - val_loss: 1.2040 - val_acc: 0.5500\n",
      "Epoch 18/150\n",
      "5/5 [==============================] - ETA: 19s - loss: 1.2925 - acc: 0.37 - ETA: 12s - loss: 1.3824 - acc: 0.36 - ETA: 8s - loss: 1.4392 - acc: 0.3191 - ETA: 4s - loss: 1.3899 - acc: 0.340 - 23s 5s/step - loss: 1.3957 - acc: 0.3412 - val_loss: 1.2998 - val_acc: 0.4500\n",
      "Epoch 19/150\n",
      "5/5 [==============================] - ETA: 18s - loss: 1.2142 - acc: 0.50 - ETA: 14s - loss: 1.2098 - acc: 0.48 - ETA: 9s - loss: 1.2881 - acc: 0.4271 - ETA: 4s - loss: 1.2478 - acc: 0.460 - 23s 5s/step - loss: 1.2125 - acc: 0.4771 - val_loss: 1.1839 - val_acc: 0.6000\n",
      "Epoch 20/150\n",
      "5/5 [==============================] - ETA: 18s - loss: 1.3493 - acc: 0.40 - ETA: 14s - loss: 1.5025 - acc: 0.23 - ETA: 9s - loss: 1.4285 - acc: 0.3229 - ETA: 4s - loss: 1.3877 - acc: 0.382 - 23s 5s/step - loss: 1.3868 - acc: 0.3705 - val_loss: 1.1810 - val_acc: 0.4500\n",
      "Epoch 21/150\n",
      "5/5 [==============================] - ETA: 18s - loss: 1.2507 - acc: 0.37 - ETA: 14s - loss: 1.2298 - acc: 0.39 - ETA: 9s - loss: 1.2671 - acc: 0.4167 - ETA: 4s - loss: 1.2883 - acc: 0.380 - 23s 5s/step - loss: 1.3258 - acc: 0.3555 - val_loss: 1.1985 - val_acc: 0.4500\n",
      "Epoch 22/150\n",
      "5/5 [==============================] - ETA: 18s - loss: 1.2178 - acc: 0.37 - ETA: 14s - loss: 1.3016 - acc: 0.42 - ETA: 9s - loss: 1.2909 - acc: 0.3958 - ETA: 4s - loss: 1.3237 - acc: 0.387 - 23s 5s/step - loss: 1.2866 - acc: 0.4234 - val_loss: 1.2550 - val_acc: 0.4000\n",
      "Epoch 23/150\n",
      "5/5 [==============================] - ETA: 18s - loss: 1.5286 - acc: 0.34 - ETA: 14s - loss: 1.3881 - acc: 0.37 - ETA: 9s - loss: 1.4289 - acc: 0.3646 - ETA: 4s - loss: 1.4063 - acc: 0.364 - 23s 5s/step - loss: 1.3696 - acc: 0.3981 - val_loss: 1.1081 - val_acc: 0.5000\n",
      "Epoch 24/150\n",
      "5/5 [==============================] - ETA: 18s - loss: 1.3257 - acc: 0.53 - ETA: 11s - loss: 1.2237 - acc: 0.53 - ETA: 8s - loss: 1.2049 - acc: 0.5256 - ETA: 4s - loss: 1.1950 - acc: 0.534 - 23s 5s/step - loss: 1.1747 - acc: 0.5340 - val_loss: 1.1191 - val_acc: 0.5500\n",
      "Epoch 25/150\n",
      "5/5 [==============================] - ETA: 18s - loss: 1.0509 - acc: 0.53 - ETA: 14s - loss: 1.1965 - acc: 0.39 - ETA: 8s - loss: 1.2502 - acc: 0.4119 - ETA: 4s - loss: 1.1892 - acc: 0.473 - 23s 5s/step - loss: 1.2946 - acc: 0.4597 - val_loss: 1.0392 - val_acc: 0.5500\n",
      "Epoch 26/150\n",
      "5/5 [==============================] - ETA: 18s - loss: 1.2362 - acc: 0.40 - ETA: 11s - loss: 1.1203 - acc: 0.47 - ETA: 8s - loss: 1.0712 - acc: 0.4839 - ETA: 4s - loss: 1.1565 - acc: 0.456 - 23s 5s/step - loss: 1.1851 - acc: 0.4645 - val_loss: 1.1602 - val_acc: 0.5500\n",
      "Epoch 27/150\n",
      "5/5 [==============================] - ETA: 18s - loss: 1.1964 - acc: 0.50 - ETA: 11s - loss: 1.1547 - acc: 0.47 - ETA: 8s - loss: 1.0919 - acc: 0.5265 - ETA: 4s - loss: 1.1491 - acc: 0.535 - 23s 5s/step - loss: 1.1277 - acc: 0.5292 - val_loss: 0.9995 - val_acc: 0.5500\n",
      "Epoch 28/150\n",
      "5/5 [==============================] - ETA: 18s - loss: 1.1953 - acc: 0.37 - ETA: 12s - loss: 1.1910 - acc: 0.50 - ETA: 8s - loss: 1.1924 - acc: 0.4934 - ETA: 4s - loss: 1.1105 - acc: 0.549 - 23s 5s/step - loss: 1.0837 - acc: 0.5450 - val_loss: 1.2067 - val_acc: 0.5000\n",
      "Epoch 29/150\n",
      "5/5 [==============================] - ETA: 13s - loss: 1.2939 - acc: 0.36 - ETA: 12s - loss: 1.3589 - acc: 0.38 - ETA: 8s - loss: 1.3148 - acc: 0.4233 - ETA: 4s - loss: 1.3042 - acc: 0.426 - 23s 5s/step - loss: 1.3099 - acc: 0.4297 - val_loss: 1.0960 - val_acc: 0.5500\n"
     ]
    },
    {
     "name": "stdout",
     "output_type": "stream",
     "text": [
      "Epoch 30/150\n",
      "5/5 [==============================] - ETA: 18s - loss: 1.2080 - acc: 0.50 - ETA: 13s - loss: 1.0686 - acc: 0.56 - ETA: 9s - loss: 1.1301 - acc: 0.5208 - ETA: 4s - loss: 1.0860 - acc: 0.523 - 23s 5s/step - loss: 1.0934 - acc: 0.5276 - val_loss: 1.0545 - val_acc: 0.6000\n",
      "Epoch 31/150\n",
      "5/5 [==============================] - ETA: 18s - loss: 1.2363 - acc: 0.40 - ETA: 14s - loss: 1.1619 - acc: 0.45 - ETA: 8s - loss: 1.0868 - acc: 0.4991 - ETA: 4s - loss: 0.9997 - acc: 0.554 - 23s 5s/step - loss: 1.1628 - acc: 0.5300 - val_loss: 1.1050 - val_acc: 0.6000\n",
      "Epoch 32/150\n",
      "5/5 [==============================] - ETA: 18s - loss: 1.3286 - acc: 0.37 - ETA: 11s - loss: 1.2547 - acc: 0.46 - ETA: 8s - loss: 1.1633 - acc: 0.5256 - ETA: 4s - loss: 1.1363 - acc: 0.534 - 23s 5s/step - loss: 1.1306 - acc: 0.5403 - val_loss: 0.9947 - val_acc: 0.5500\n",
      "Epoch 33/150\n",
      "5/5 [==============================] - ETA: 18s - loss: 0.7395 - acc: 0.68 - ETA: 14s - loss: 0.9326 - acc: 0.62 - ETA: 9s - loss: 1.0776 - acc: 0.5521 - ETA: 4s - loss: 1.1001 - acc: 0.505 - 23s 5s/step - loss: 1.0659 - acc: 0.5371 - val_loss: 1.0073 - val_acc: 0.6500\n",
      "Epoch 34/150\n",
      "5/5 [==============================] - ETA: 18s - loss: 1.0733 - acc: 0.50 - ETA: 13s - loss: 1.0789 - acc: 0.51 - ETA: 8s - loss: 1.0736 - acc: 0.5407 - ETA: 4s - loss: 1.0442 - acc: 0.530 - 23s 5s/step - loss: 1.0709 - acc: 0.5047 - val_loss: 0.9674 - val_acc: 0.6500\n",
      "Epoch 35/150\n",
      "5/5 [==============================] - ETA: 18s - loss: 1.0541 - acc: 0.53 - ETA: 14s - loss: 0.9837 - acc: 0.62 - ETA: 8s - loss: 0.9574 - acc: 0.6136 - ETA: 4s - loss: 1.0857 - acc: 0.577 - 23s 5s/step - loss: 1.1518 - acc: 0.5490 - val_loss: 1.1479 - val_acc: 0.4500\n",
      "Epoch 36/150\n",
      "5/5 [==============================] - ETA: 18s - loss: 1.1336 - acc: 0.56 - ETA: 14s - loss: 1.0518 - acc: 0.57 - ETA: 9s - loss: 0.9873 - acc: 0.5729 - ETA: 4s - loss: 0.9043 - acc: 0.622 - 23s 5s/step - loss: 0.9702 - acc: 0.5837 - val_loss: 0.9958 - val_acc: 0.6000\n",
      "Epoch 37/150\n",
      "5/5 [==============================] - ETA: 18s - loss: 0.9110 - acc: 0.62 - ETA: 13s - loss: 1.0575 - acc: 0.53 - ETA: 9s - loss: 1.0457 - acc: 0.5208 - ETA: 4s - loss: 1.1145 - acc: 0.492 - 23s 5s/step - loss: 1.0766 - acc: 0.5024 - val_loss: 0.9111 - val_acc: 0.5500\n",
      "Epoch 38/150\n",
      "5/5 [==============================] - ETA: 18s - loss: 1.1404 - acc: 0.56 - ETA: 14s - loss: 1.2527 - acc: 0.53 - ETA: 8s - loss: 1.1511 - acc: 0.5360 - ETA: 4s - loss: 1.0583 - acc: 0.581 - 23s 5s/step - loss: 1.0359 - acc: 0.5845 - val_loss: 0.8845 - val_acc: 0.7500\n",
      "Epoch 39/150\n",
      "5/5 [==============================] - ETA: 18s - loss: 0.6013 - acc: 0.81 - ETA: 13s - loss: 0.8875 - acc: 0.68 - ETA: 8s - loss: 0.8986 - acc: 0.6402 - ETA: 4s - loss: 0.9808 - acc: 0.573 - 23s 5s/step - loss: 0.9905 - acc: 0.5466 - val_loss: 0.9067 - val_acc: 0.6500\n",
      "Epoch 40/150\n",
      "5/5 [==============================] - ETA: 12s - loss: 1.0510 - acc: 0.63 - ETA: 11s - loss: 0.9809 - acc: 0.58 - ETA: 8s - loss: 1.0182 - acc: 0.5871 - ETA: 4s - loss: 1.0204 - acc: 0.565 - 23s 5s/step - loss: 0.9861 - acc: 0.5766 - val_loss: 0.9304 - val_acc: 0.6000\n",
      "Epoch 41/150\n",
      "5/5 [==============================] - ETA: 18s - loss: 0.8860 - acc: 0.62 - ETA: 11s - loss: 0.8858 - acc: 0.69 - ETA: 8s - loss: 0.9414 - acc: 0.6430 - ETA: 4s - loss: 0.9858 - acc: 0.615 - 23s 5s/step - loss: 1.0145 - acc: 0.5837 - val_loss: 0.9257 - val_acc: 0.5500\n",
      "Epoch 42/150\n",
      "5/5 [==============================] - ETA: 18s - loss: 0.9932 - acc: 0.56 - ETA: 14s - loss: 0.9361 - acc: 0.62 - ETA: 9s - loss: 0.9774 - acc: 0.6042 - ETA: 4s - loss: 0.9732 - acc: 0.578 - 23s 5s/step - loss: 0.9542 - acc: 0.5885 - val_loss: 0.8985 - val_acc: 0.8000\n",
      "Epoch 43/150\n",
      "5/5 [==============================] - ETA: 18s - loss: 0.7890 - acc: 0.68 - ETA: 14s - loss: 1.0211 - acc: 0.60 - ETA: 9s - loss: 1.0662 - acc: 0.5833 - ETA: 4s - loss: 1.0336 - acc: 0.573 - 23s 5s/step - loss: 1.0053 - acc: 0.5719 - val_loss: 0.8879 - val_acc: 0.8000\n",
      "Epoch 44/150\n",
      "5/5 [==============================] - ETA: 18s - loss: 0.8651 - acc: 0.62 - ETA: 12s - loss: 0.9225 - acc: 0.53 - ETA: 8s - loss: 0.9328 - acc: 0.5786 - ETA: 4s - loss: 1.0093 - acc: 0.566 - 23s 5s/step - loss: 1.0184 - acc: 0.5545 - val_loss: 0.8938 - val_acc: 0.7000\n",
      "Epoch 45/150\n",
      "5/5 [==============================] - ETA: 18s - loss: 0.9937 - acc: 0.56 - ETA: 11s - loss: 0.9317 - acc: 0.62 - ETA: 8s - loss: 0.9154 - acc: 0.6023 - ETA: 4s - loss: 0.9591 - acc: 0.576 - 23s 5s/step - loss: 0.9675 - acc: 0.5853 - val_loss: 0.9090 - val_acc: 0.7500\n",
      "Epoch 46/150\n",
      "5/5 [==============================] - ETA: 12s - loss: 1.1857 - acc: 0.45 - ETA: 11s - loss: 1.1083 - acc: 0.46 - ETA: 8s - loss: 1.0306 - acc: 0.5161 - ETA: 4s - loss: 0.9576 - acc: 0.558 - 23s 5s/step - loss: 0.9968 - acc: 0.5482 - val_loss: 0.8920 - val_acc: 0.6500\n",
      "Epoch 47/150\n",
      "5/5 [==============================] - ETA: 18s - loss: 0.9281 - acc: 0.65 - ETA: 13s - loss: 0.9083 - acc: 0.65 - ETA: 8s - loss: 0.9300 - acc: 0.6345 - ETA: 4s - loss: 0.8961 - acc: 0.632 - 23s 5s/step - loss: 0.9102 - acc: 0.6058 - val_loss: 0.8501 - val_acc: 0.7500\n",
      "Epoch 48/150\n",
      "5/5 [==============================] - ETA: 18s - loss: 1.0845 - acc: 0.53 - ETA: 14s - loss: 1.0231 - acc: 0.56 - ETA: 9s - loss: 1.0012 - acc: 0.5521 - ETA: 4s - loss: 0.9758 - acc: 0.539 - 23s 5s/step - loss: 0.9575 - acc: 0.5577 - val_loss: 0.8940 - val_acc: 0.7000\n",
      "Epoch 49/150\n",
      "5/5 [==============================] - ETA: 17s - loss: 1.2367 - acc: 0.50 - ETA: 13s - loss: 1.0165 - acc: 0.59 - ETA: 8s - loss: 0.9196 - acc: 0.6231 - ETA: 4s - loss: 0.9614 - acc: 0.592 - 23s 5s/step - loss: 0.9991 - acc: 0.5853 - val_loss: 0.9090 - val_acc: 0.8500\n",
      "Epoch 50/150\n",
      "5/5 [==============================] - ETA: 12s - loss: 0.9810 - acc: 0.50 - ETA: 11s - loss: 0.8915 - acc: 0.57 - ETA: 8s - loss: 0.8787 - acc: 0.5625 - ETA: 4s - loss: 0.8460 - acc: 0.593 - 23s 5s/step - loss: 0.9076 - acc: 0.5758 - val_loss: 0.8382 - val_acc: 0.7000\n",
      "Epoch 51/150\n",
      "5/5 [==============================] - ETA: 18s - loss: 1.0867 - acc: 0.43 - ETA: 11s - loss: 1.0385 - acc: 0.51 - ETA: 8s - loss: 0.9909 - acc: 0.5720 - ETA: 4s - loss: 0.9810 - acc: 0.569 - 23s 5s/step - loss: 0.9371 - acc: 0.6185 - val_loss: 0.8058 - val_acc: 0.7500\n",
      "Epoch 52/150\n",
      "5/5 [==============================] - ETA: 18s - loss: 1.0114 - acc: 0.53 - ETA: 14s - loss: 0.9323 - acc: 0.59 - ETA: 8s - loss: 0.8535 - acc: 0.6383 - ETA: 4s - loss: 0.8677 - acc: 0.627 - 23s 5s/step - loss: 0.9364 - acc: 0.5814 - val_loss: 0.9237 - val_acc: 0.6500\n",
      "Epoch 53/150\n",
      "5/5 [==============================] - ETA: 13s - loss: 1.0571 - acc: 0.59 - ETA: 12s - loss: 1.0162 - acc: 0.63 - ETA: 8s - loss: 0.9340 - acc: 0.6241 - ETA: 4s - loss: 0.9186 - acc: 0.624 - 23s 5s/step - loss: 0.9388 - acc: 0.6185 - val_loss: 0.8212 - val_acc: 0.7500\n",
      "Epoch 54/150\n",
      "5/5 [==============================] - ETA: 17s - loss: 0.9830 - acc: 0.71 - ETA: 13s - loss: 0.9340 - acc: 0.70 - ETA: 9s - loss: 0.8623 - acc: 0.6979 - ETA: 4s - loss: 0.9606 - acc: 0.648 - 23s 5s/step - loss: 0.9482 - acc: 0.6635 - val_loss: 0.9133 - val_acc: 0.6000\n",
      "Epoch 55/150\n",
      "5/5 [==============================] - ETA: 18s - loss: 0.9873 - acc: 0.43 - ETA: 13s - loss: 0.9296 - acc: 0.48 - ETA: 9s - loss: 0.8790 - acc: 0.5521 - ETA: 4s - loss: 0.8512 - acc: 0.630 - 23s 5s/step - loss: 0.8763 - acc: 0.6201 - val_loss: 0.8243 - val_acc: 0.7500\n",
      "Epoch 56/150\n",
      "5/5 [==============================] - ETA: 18s - loss: 1.0342 - acc: 0.56 - ETA: 13s - loss: 0.8145 - acc: 0.65 - ETA: 8s - loss: 0.7349 - acc: 0.6951 - ETA: 4s - loss: 0.7962 - acc: 0.661 - 23s 5s/step - loss: 0.7991 - acc: 0.6722 - val_loss: 0.7857 - val_acc: 0.7500\n",
      "Epoch 57/150\n",
      "5/5 [==============================] - ETA: 13s - loss: 0.6837 - acc: 0.72 - ETA: 11s - loss: 0.6587 - acc: 0.72 - ETA: 8s - loss: 0.7763 - acc: 0.6799 - ETA: 4s - loss: 0.8155 - acc: 0.650 - 23s 5s/step - loss: 0.7954 - acc: 0.6509 - val_loss: 0.7703 - val_acc: 0.7500\n",
      "Epoch 58/150\n",
      "5/5 [==============================] - ETA: 12s - loss: 0.7585 - acc: 0.68 - ETA: 11s - loss: 0.7764 - acc: 0.66 - ETA: 8s - loss: 0.7787 - acc: 0.6752 - ETA: 4s - loss: 0.7440 - acc: 0.717 - 23s 5s/step - loss: 0.7706 - acc: 0.6991 - val_loss: 0.7664 - val_acc: 0.8000\n"
     ]
    },
    {
     "name": "stdout",
     "output_type": "stream",
     "text": [
      "Epoch 59/150\n",
      "5/5 [==============================] - ETA: 12s - loss: 0.8679 - acc: 0.63 - ETA: 12s - loss: 0.8971 - acc: 0.63 - ETA: 8s - loss: 0.9410 - acc: 0.6080 - ETA: 4s - loss: 0.9320 - acc: 0.588 - 23s 5s/step - loss: 0.9617 - acc: 0.5893 - val_loss: 0.7902 - val_acc: 0.8000\n",
      "Epoch 60/150\n",
      "5/5 [==============================] - ETA: 18s - loss: 0.9895 - acc: 0.59 - ETA: 11s - loss: 0.9141 - acc: 0.63 - ETA: 8s - loss: 0.9357 - acc: 0.6231 - ETA: 4s - loss: 0.8712 - acc: 0.639 - 23s 5s/step - loss: 0.8346 - acc: 0.6675 - val_loss: 0.7536 - val_acc: 0.8000\n",
      "Epoch 61/150\n",
      "5/5 [==============================] - ETA: 18s - loss: 0.9600 - acc: 0.62 - ETA: 13s - loss: 0.9664 - acc: 0.62 - ETA: 9s - loss: 0.8499 - acc: 0.6667 - ETA: 4s - loss: 0.8260 - acc: 0.647 - 23s 5s/step - loss: 0.7852 - acc: 0.6817 - val_loss: 0.8001 - val_acc: 0.8000\n",
      "Epoch 62/150\n",
      "5/5 [==============================] - ETA: 18s - loss: 0.7922 - acc: 0.71 - ETA: 11s - loss: 0.7726 - acc: 0.72 - ETA: 8s - loss: 0.8092 - acc: 0.6903 - ETA: 4s - loss: 0.8223 - acc: 0.697 - 23s 5s/step - loss: 0.8176 - acc: 0.6888 - val_loss: 0.7343 - val_acc: 0.8500\n",
      "Epoch 63/150\n",
      "5/5 [==============================] - ETA: 18s - loss: 0.8481 - acc: 0.78 - ETA: 13s - loss: 0.7750 - acc: 0.70 - ETA: 8s - loss: 0.7472 - acc: 0.6809 - ETA: 4s - loss: 0.7417 - acc: 0.666 - 23s 5s/step - loss: 0.7415 - acc: 0.6714 - val_loss: 0.7284 - val_acc: 0.8000\n",
      "Epoch 64/150\n",
      "5/5 [==============================] - ETA: 18s - loss: 0.5774 - acc: 0.75 - ETA: 11s - loss: 0.5886 - acc: 0.76 - ETA: 8s - loss: 0.8216 - acc: 0.7159 - ETA: 4s - loss: 0.8136 - acc: 0.724 - 23s 5s/step - loss: 0.7713 - acc: 0.7227 - val_loss: 0.6428 - val_acc: 0.8500\n",
      "Epoch 65/150\n",
      "5/5 [==============================] - ETA: 18s - loss: 0.6218 - acc: 0.71 - ETA: 11s - loss: 0.5933 - acc: 0.76 - ETA: 8s - loss: 0.6027 - acc: 0.7519 - ETA: 4s - loss: 0.7310 - acc: 0.688 - 23s 5s/step - loss: 0.7396 - acc: 0.7062 - val_loss: 0.6918 - val_acc: 0.7500\n",
      "Epoch 66/150\n",
      "5/5 [==============================] - ETA: 13s - loss: 0.7040 - acc: 0.72 - ETA: 11s - loss: 0.7332 - acc: 0.67 - ETA: 8s - loss: 0.6325 - acc: 0.7320 - ETA: 4s - loss: 0.6502 - acc: 0.736 - 23s 5s/step - loss: 0.6906 - acc: 0.7141 - val_loss: 0.5790 - val_acc: 0.9000\n",
      "Epoch 67/150\n",
      "5/5 [==============================] - ETA: 18s - loss: 0.5725 - acc: 0.81 - ETA: 11s - loss: 0.6676 - acc: 0.70 - ETA: 8s - loss: 0.6915 - acc: 0.7074 - ETA: 4s - loss: 0.7219 - acc: 0.702 - 23s 5s/step - loss: 0.7138 - acc: 0.7133 - val_loss: 0.6280 - val_acc: 0.8500\n",
      "Epoch 68/150\n",
      "5/5 [==============================] - ETA: 18s - loss: 0.3700 - acc: 0.87 - ETA: 13s - loss: 0.5145 - acc: 0.81 - ETA: 9s - loss: 0.5747 - acc: 0.8021 - ETA: 4s - loss: 0.6343 - acc: 0.796 - 23s 5s/step - loss: 0.6449 - acc: 0.8009 - val_loss: 0.7747 - val_acc: 0.7500\n",
      "Epoch 69/150\n",
      "5/5 [==============================] - ETA: 18s - loss: 0.5020 - acc: 0.75 - ETA: 11s - loss: 0.5221 - acc: 0.76 - ETA: 8s - loss: 0.6052 - acc: 0.7159 - ETA: 4s - loss: 0.6116 - acc: 0.732 - 23s 5s/step - loss: 0.6181 - acc: 0.7227 - val_loss: 0.6202 - val_acc: 0.8500\n",
      "Epoch 70/150\n",
      "5/5 [==============================] - ETA: 18s - loss: 0.5263 - acc: 0.75 - ETA: 14s - loss: 0.6432 - acc: 0.73 - ETA: 9s - loss: 0.6147 - acc: 0.7500 - ETA: 4s - loss: 0.5980 - acc: 0.744 - 23s 5s/step - loss: 0.5955 - acc: 0.7646 - val_loss: 0.6929 - val_acc: 0.7500\n",
      "Epoch 71/150\n",
      "5/5 [==============================] - ETA: 18s - loss: 0.5354 - acc: 0.78 - ETA: 11s - loss: 0.5494 - acc: 0.75 - ETA: 8s - loss: 0.6012 - acc: 0.7424 - ETA: 4s - loss: 0.6330 - acc: 0.736 - 23s 5s/step - loss: 0.6235 - acc: 0.7457 - val_loss: 0.5759 - val_acc: 0.8500\n",
      "Epoch 72/150\n",
      "5/5 [==============================] - ETA: 18s - loss: 0.6041 - acc: 0.75 - ETA: 14s - loss: 0.8830 - acc: 0.68 - ETA: 8s - loss: 0.9343 - acc: 0.6705 - ETA: 4s - loss: 0.8801 - acc: 0.682 - 23s 5s/step - loss: 0.8200 - acc: 0.6967 - val_loss: 0.6295 - val_acc: 0.8500\n",
      "Epoch 73/150\n",
      "5/5 [==============================] - ETA: 19s - loss: 0.4539 - acc: 0.81 - ETA: 12s - loss: 0.5931 - acc: 0.74 - ETA: 8s - loss: 0.6849 - acc: 0.7169 - ETA: 4s - loss: 0.7450 - acc: 0.686 - 23s 5s/step - loss: 0.7222 - acc: 0.7180 - val_loss: 0.6238 - val_acc: 0.8000\n",
      "Epoch 74/150\n",
      "5/5 [==============================] - ETA: 18s - loss: 0.4868 - acc: 0.84 - ETA: 13s - loss: 0.4707 - acc: 0.81 - ETA: 9s - loss: 0.5484 - acc: 0.7917 - ETA: 4s - loss: 0.5275 - acc: 0.796 - 23s 5s/step - loss: 0.6037 - acc: 0.7749 - val_loss: 0.5962 - val_acc: 0.8500\n",
      "Epoch 75/150\n",
      "5/5 [==============================] - ETA: 18s - loss: 0.8036 - acc: 0.78 - ETA: 14s - loss: 0.7043 - acc: 0.79 - ETA: 8s - loss: 0.6367 - acc: 0.8343 - ETA: 4s - loss: 0.6247 - acc: 0.813 - 23s 5s/step - loss: 0.6226 - acc: 0.7930 - val_loss: 0.7105 - val_acc: 0.8000\n",
      "Epoch 76/150\n",
      "5/5 [==============================] - ETA: 18s - loss: 0.5513 - acc: 0.84 - ETA: 13s - loss: 0.4935 - acc: 0.82 - ETA: 9s - loss: 0.5592 - acc: 0.7917 - ETA: 4s - loss: 0.6051 - acc: 0.775 - 23s 5s/step - loss: 0.6472 - acc: 0.7583 - val_loss: 0.6953 - val_acc: 0.8000\n",
      "Epoch 77/150\n",
      "5/5 [==============================] - ETA: 18s - loss: 0.5415 - acc: 0.84 - ETA: 11s - loss: 0.4242 - acc: 0.87 - ETA: 8s - loss: 0.6336 - acc: 0.7822 - ETA: 4s - loss: 0.6267 - acc: 0.766 - 23s 5s/step - loss: 0.6270 - acc: 0.7804 - val_loss: 0.5674 - val_acc: 0.8500\n",
      "Epoch 78/150\n",
      "5/5 [==============================] - ETA: 18s - loss: 0.4536 - acc: 0.81 - ETA: 13s - loss: 0.4873 - acc: 0.84 - ETA: 9s - loss: 0.5453 - acc: 0.8125 - ETA: 4s - loss: 0.5543 - acc: 0.796 - 23s 5s/step - loss: 0.5243 - acc: 0.8096 - val_loss: 0.5815 - val_acc: 0.8000\n",
      "Epoch 79/150\n",
      "5/5 [==============================] - ETA: 13s - loss: 0.3473 - acc: 0.90 - ETA: 11s - loss: 0.4124 - acc: 0.87 - ETA: 8s - loss: 0.5348 - acc: 0.8134 - ETA: 4s - loss: 0.6109 - acc: 0.766 - 23s 5s/step - loss: 0.5726 - acc: 0.7741 - val_loss: 0.5767 - val_acc: 0.8000\n",
      "Epoch 80/150\n",
      "5/5 [==============================] - ETA: 12s - loss: 0.5783 - acc: 0.86 - ETA: 11s - loss: 0.6541 - acc: 0.83 - ETA: 8s - loss: 0.6593 - acc: 0.7879 - ETA: 4s - loss: 0.6501 - acc: 0.786 - 23s 5s/step - loss: 0.6533 - acc: 0.7844 - val_loss: 0.5574 - val_acc: 0.9000\n",
      "Epoch 81/150\n",
      "5/5 [==============================] - ETA: 18s - loss: 0.4144 - acc: 0.84 - ETA: 14s - loss: 0.5780 - acc: 0.78 - ETA: 9s - loss: 0.6119 - acc: 0.7812 - ETA: 4s - loss: 0.6118 - acc: 0.757 - 23s 5s/step - loss: 0.5961 - acc: 0.7693 - val_loss: 0.7279 - val_acc: 0.8000\n",
      "Epoch 82/150\n",
      "5/5 [==============================] - ETA: 18s - loss: 0.3593 - acc: 0.87 - ETA: 13s - loss: 0.5990 - acc: 0.81 - ETA: 9s - loss: 0.5731 - acc: 0.8125 - ETA: 4s - loss: 0.6454 - acc: 0.779 - 23s 5s/step - loss: 0.6180 - acc: 0.7938 - val_loss: 0.5351 - val_acc: 0.8000\n",
      "Epoch 83/150\n",
      "5/5 [==============================] - ETA: 19s - loss: 0.8268 - acc: 0.71 - ETA: 14s - loss: 0.7205 - acc: 0.70 - ETA: 9s - loss: 0.6706 - acc: 0.7292 - ETA: 4s - loss: 0.6976 - acc: 0.740 - 24s 5s/step - loss: 0.6637 - acc: 0.7354 - val_loss: 0.4845 - val_acc: 0.8000\n",
      "Epoch 84/150\n",
      "5/5 [==============================] - ETA: 18s - loss: 0.6391 - acc: 0.62 - ETA: 14s - loss: 0.5870 - acc: 0.71 - ETA: 9s - loss: 0.5691 - acc: 0.7500 - ETA: 4s - loss: 0.5120 - acc: 0.767 - 23s 5s/step - loss: 0.6063 - acc: 0.7504 - val_loss: 0.6647 - val_acc: 0.8000\n",
      "Epoch 85/150\n",
      "5/5 [==============================] - ETA: 18s - loss: 0.6458 - acc: 0.68 - ETA: 14s - loss: 0.6321 - acc: 0.70 - ETA: 9s - loss: 0.6687 - acc: 0.7188 - ETA: 4s - loss: 0.6730 - acc: 0.710 - 23s 5s/step - loss: 0.6339 - acc: 0.7227 - val_loss: 0.5313 - val_acc: 0.8500\n",
      "Epoch 86/150\n",
      "5/5 [==============================] - ETA: 18s - loss: 0.6826 - acc: 0.71 - ETA: 13s - loss: 0.7574 - acc: 0.71 - ETA: 9s - loss: 0.7218 - acc: 0.7083 - ETA: 4s - loss: 0.7484 - acc: 0.690 - 23s 5s/step - loss: 0.6955 - acc: 0.7220 - val_loss: 0.6719 - val_acc: 0.8000\n",
      "Epoch 87/150\n",
      "5/5 [==============================] - ETA: 18s - loss: 0.4755 - acc: 0.71 - ETA: 13s - loss: 0.5088 - acc: 0.79 - ETA: 9s - loss: 0.6056 - acc: 0.7604 - ETA: 4s - loss: 0.6064 - acc: 0.752 - 23s 5s/step - loss: 0.6271 - acc: 0.7457 - val_loss: 0.7318 - val_acc: 0.8500\n"
     ]
    },
    {
     "name": "stdout",
     "output_type": "stream",
     "text": [
      "Epoch 88/150\n",
      "5/5 [==============================] - ETA: 18s - loss: 0.9399 - acc: 0.59 - ETA: 14s - loss: 0.8181 - acc: 0.67 - ETA: 9s - loss: 0.7825 - acc: 0.7083 - ETA: 4s - loss: 0.7583 - acc: 0.690 - 23s 5s/step - loss: 0.7007 - acc: 0.7220 - val_loss: 0.5192 - val_acc: 0.8500\n",
      "Epoch 89/150\n",
      "5/5 [==============================] - ETA: 13s - loss: 0.2873 - acc: 0.90 - ETA: 11s - loss: 0.4980 - acc: 0.79 - ETA: 8s - loss: 0.5698 - acc: 0.7822 - ETA: 4s - loss: 0.5336 - acc: 0.797 - 23s 5s/step - loss: 0.5128 - acc: 0.8057 - val_loss: 0.5704 - val_acc: 0.8500\n",
      "Epoch 90/150\n",
      "5/5 [==============================] - ETA: 18s - loss: 0.3691 - acc: 0.84 - ETA: 13s - loss: 0.4334 - acc: 0.84 - ETA: 9s - loss: 0.4247 - acc: 0.8542 - ETA: 4s - loss: 0.4057 - acc: 0.867 - 23s 5s/step - loss: 0.3903 - acc: 0.8578 - val_loss: 0.4619 - val_acc: 0.8500\n",
      "Epoch 91/150\n",
      "5/5 [==============================] - ETA: 18s - loss: 0.4459 - acc: 0.78 - ETA: 14s - loss: 0.4499 - acc: 0.82 - ETA: 9s - loss: 0.4455 - acc: 0.8438 - ETA: 4s - loss: 0.4995 - acc: 0.804 - 23s 5s/step - loss: 0.5417 - acc: 0.7725 - val_loss: 0.5162 - val_acc: 0.8000\n",
      "Epoch 92/150\n",
      "5/5 [==============================] - ETA: 12s - loss: 0.4089 - acc: 0.86 - ETA: 11s - loss: 0.4379 - acc: 0.82 - ETA: 8s - loss: 0.4063 - acc: 0.8400 - ETA: 4s - loss: 0.3506 - acc: 0.864 - 23s 5s/step - loss: 0.3347 - acc: 0.8728 - val_loss: 0.7214 - val_acc: 0.7500\n",
      "Epoch 93/150\n",
      "5/5 [==============================] - ETA: 18s - loss: 0.2564 - acc: 0.87 - ETA: 11s - loss: 0.3778 - acc: 0.84 - ETA: 8s - loss: 0.5685 - acc: 0.7831 - ETA: 4s - loss: 0.5301 - acc: 0.798 - 23s 5s/step - loss: 0.5330 - acc: 0.7883 - val_loss: 0.5749 - val_acc: 0.7500\n",
      "Epoch 94/150\n",
      "5/5 [==============================] - ETA: 18s - loss: 0.5095 - acc: 0.84 - ETA: 14s - loss: 0.6607 - acc: 0.76 - ETA: 9s - loss: 0.6657 - acc: 0.7604 - ETA: 4s - loss: 0.6427 - acc: 0.750 - 23s 5s/step - loss: 0.6028 - acc: 0.7630 - val_loss: 0.4709 - val_acc: 0.9000\n",
      "Epoch 95/150\n",
      "5/5 [==============================] - ETA: 18s - loss: 0.4429 - acc: 0.81 - ETA: 14s - loss: 0.4542 - acc: 0.81 - ETA: 9s - loss: 0.4696 - acc: 0.8229 - ETA: 4s - loss: 0.4432 - acc: 0.844 - 23s 5s/step - loss: 0.5027 - acc: 0.8183 - val_loss: 0.5611 - val_acc: 0.8500\n",
      "Epoch 96/150\n",
      "5/5 [==============================] - ETA: 18s - loss: 0.6575 - acc: 0.75 - ETA: 13s - loss: 0.4995 - acc: 0.76 - ETA: 9s - loss: 0.5413 - acc: 0.7812 - ETA: 4s - loss: 0.5941 - acc: 0.757 - 23s 5s/step - loss: 0.5555 - acc: 0.7607 - val_loss: 0.3915 - val_acc: 0.8000\n",
      "Epoch 97/150\n",
      "5/5 [==============================] - ETA: 18s - loss: 0.7799 - acc: 0.65 - ETA: 11s - loss: 0.5744 - acc: 0.75 - ETA: 8s - loss: 0.5322 - acc: 0.7879 - ETA: 4s - loss: 0.5584 - acc: 0.801 - 23s 5s/step - loss: 0.5425 - acc: 0.8160 - val_loss: 0.4347 - val_acc: 0.7500\n",
      "Epoch 98/150\n",
      "5/5 [==============================] - ETA: 12s - loss: 0.5963 - acc: 0.90 - ETA: 11s - loss: 0.5199 - acc: 0.87 - ETA: 8s - loss: 0.5692 - acc: 0.8239 - ETA: 4s - loss: 0.5496 - acc: 0.821 - 23s 5s/step - loss: 0.5690 - acc: 0.8120 - val_loss: 0.4062 - val_acc: 0.8500\n",
      "Epoch 99/150\n",
      "5/5 [==============================] - ETA: 12s - loss: 0.5292 - acc: 0.77 - ETA: 11s - loss: 0.4391 - acc: 0.85 - ETA: 8s - loss: 0.3881 - acc: 0.8617 - ETA: 4s - loss: 0.5252 - acc: 0.826 - 23s 5s/step - loss: 0.5770 - acc: 0.7986 - val_loss: 0.3952 - val_acc: 0.8500\n",
      "Epoch 100/150\n",
      "5/5 [==============================] - ETA: 18s - loss: 0.4740 - acc: 0.84 - ETA: 13s - loss: 0.6432 - acc: 0.70 - ETA: 8s - loss: 0.5632 - acc: 0.7718 - ETA: 4s - loss: 0.5704 - acc: 0.782 - 23s 5s/step - loss: 0.5824 - acc: 0.7741 - val_loss: 0.4288 - val_acc: 0.8500\n",
      "Epoch 101/150\n",
      "5/5 [==============================] - ETA: 18s - loss: 0.2232 - acc: 0.96 - ETA: 13s - loss: 0.2532 - acc: 0.92 - ETA: 8s - loss: 0.3567 - acc: 0.8722 - ETA: 4s - loss: 0.3950 - acc: 0.849 - 23s 5s/step - loss: 0.5063 - acc: 0.8049 - val_loss: 0.4434 - val_acc: 0.8500\n",
      "Epoch 102/150\n",
      "5/5 [==============================] - ETA: 18s - loss: 0.3102 - acc: 0.90 - ETA: 13s - loss: 0.4252 - acc: 0.85 - ETA: 8s - loss: 0.4351 - acc: 0.8608 - ETA: 4s - loss: 0.4471 - acc: 0.848 - 23s 5s/step - loss: 0.4246 - acc: 0.8539 - val_loss: 0.6930 - val_acc: 0.7000\n",
      "Epoch 103/150\n",
      "5/5 [==============================] - ETA: 18s - loss: 0.6591 - acc: 0.71 - ETA: 14s - loss: 0.4729 - acc: 0.84 - ETA: 9s - loss: 0.4988 - acc: 0.8438 - ETA: 4s - loss: 0.5174 - acc: 0.848 - 23s 5s/step - loss: 0.4733 - acc: 0.8665 - val_loss: 0.6093 - val_acc: 0.9000\n",
      "Epoch 104/150\n",
      "5/5 [==============================] - ETA: 12s - loss: 0.3622 - acc: 0.81 - ETA: 12s - loss: 0.3395 - acc: 0.86 - ETA: 8s - loss: 0.4512 - acc: 0.8144 - ETA: 4s - loss: 0.4371 - acc: 0.837 - 23s 5s/step - loss: 0.4323 - acc: 0.8452 - val_loss: 0.4959 - val_acc: 0.7000\n",
      "Epoch 105/150\n",
      "5/5 [==============================] - ETA: 18s - loss: 0.4461 - acc: 0.81 - ETA: 11s - loss: 0.3540 - acc: 0.88 - ETA: 8s - loss: 0.3610 - acc: 0.8494 - ETA: 4s - loss: 0.3996 - acc: 0.840 - 23s 5s/step - loss: 0.5326 - acc: 0.8080 - val_loss: 0.5312 - val_acc: 0.7000\n",
      "Epoch 106/150\n",
      "5/5 [==============================] - ETA: 18s - loss: 0.5545 - acc: 0.81 - ETA: 14s - loss: 0.4484 - acc: 0.87 - ETA: 9s - loss: 0.3795 - acc: 0.9062 - ETA: 4s - loss: 0.4195 - acc: 0.875 - 23s 5s/step - loss: 0.3984 - acc: 0.8728 - val_loss: 0.6262 - val_acc: 0.8000\n",
      "Epoch 107/150\n",
      "5/5 [==============================] - ETA: 18s - loss: 0.4042 - acc: 0.84 - ETA: 14s - loss: 0.4448 - acc: 0.84 - ETA: 9s - loss: 0.4739 - acc: 0.8229 - ETA: 4s - loss: 0.4762 - acc: 0.828 - 23s 5s/step - loss: 0.5044 - acc: 0.8175 - val_loss: 0.5950 - val_acc: 0.8500\n",
      "Epoch 108/150\n",
      "5/5 [==============================] - ETA: 18s - loss: 0.3773 - acc: 0.84 - ETA: 11s - loss: 0.4108 - acc: 0.85 - ETA: 8s - loss: 0.3383 - acc: 0.8816 - ETA: 4s - loss: 0.3631 - acc: 0.872 - 23s 5s/step - loss: 0.3924 - acc: 0.8665 - val_loss: 0.7799 - val_acc: 0.8500\n",
      "Epoch 109/150\n",
      "5/5 [==============================] - ETA: 18s - loss: 0.4033 - acc: 0.87 - ETA: 13s - loss: 0.3939 - acc: 0.87 - ETA: 8s - loss: 0.3680 - acc: 0.8864 - ETA: 4s - loss: 0.4091 - acc: 0.867 - 23s 5s/step - loss: 0.4148 - acc: 0.8626 - val_loss: 0.4520 - val_acc: 0.9000\n",
      "Epoch 110/150\n",
      "5/5 [==============================] - ETA: 18s - loss: 0.2463 - acc: 0.90 - ETA: 13s - loss: 0.3150 - acc: 0.85 - ETA: 9s - loss: 0.3362 - acc: 0.8542 - ETA: 4s - loss: 0.2924 - acc: 0.882 - 23s 5s/step - loss: 0.3122 - acc: 0.8878 - val_loss: 0.6876 - val_acc: 0.8000\n",
      "Epoch 111/150\n",
      "5/5 [==============================] - ETA: 18s - loss: 0.3742 - acc: 0.90 - ETA: 14s - loss: 0.4661 - acc: 0.87 - ETA: 8s - loss: 0.3671 - acc: 0.9015 - ETA: 4s - loss: 0.3469 - acc: 0.887 - 23s 5s/step - loss: 0.4119 - acc: 0.8649 - val_loss: 1.0020 - val_acc: 0.8000\n",
      "Epoch 112/150\n",
      "5/5 [==============================] - ETA: 18s - loss: 0.4989 - acc: 0.84 - ETA: 13s - loss: 0.4203 - acc: 0.85 - ETA: 9s - loss: 0.4130 - acc: 0.8542 - ETA: 4s - loss: 0.4161 - acc: 0.845 - 23s 5s/step - loss: 0.3894 - acc: 0.8578 - val_loss: 0.4072 - val_acc: 0.8500\n",
      "Epoch 113/150\n",
      "5/5 [==============================] - ETA: 18s - loss: 0.3634 - acc: 0.81 - ETA: 14s - loss: 0.3086 - acc: 0.87 - ETA: 9s - loss: 0.3961 - acc: 0.8333 - ETA: 4s - loss: 0.4168 - acc: 0.828 - 23s 5s/step - loss: 0.4104 - acc: 0.8175 - val_loss: 0.5225 - val_acc: 0.9000\n",
      "Epoch 114/150\n",
      "5/5 [==============================] - ETA: 18s - loss: 0.4438 - acc: 0.84 - ETA: 14s - loss: 0.4351 - acc: 0.79 - ETA: 9s - loss: 0.4379 - acc: 0.8229 - ETA: 4s - loss: 0.4361 - acc: 0.820 - 23s 5s/step - loss: 0.4343 - acc: 0.8286 - val_loss: 0.3899 - val_acc: 0.8500\n",
      "Epoch 115/150\n",
      "5/5 [==============================] - ETA: 12s - loss: 0.2976 - acc: 0.95 - ETA: 11s - loss: 0.4510 - acc: 0.85 - ETA: 8s - loss: 0.4283 - acc: 0.8598 - ETA: 4s - loss: 0.3963 - acc: 0.887 - 23s 5s/step - loss: 0.4262 - acc: 0.8839 - val_loss: 0.4478 - val_acc: 0.8500\n",
      "Epoch 116/150\n",
      "5/5 [==============================] - ETA: 18s - loss: 0.4788 - acc: 0.90 - ETA: 13s - loss: 0.3861 - acc: 0.90 - ETA: 8s - loss: 0.3626 - acc: 0.8920 - ETA: 4s - loss: 0.3623 - acc: 0.887 - 23s 5s/step - loss: 0.4020 - acc: 0.8539 - val_loss: 0.5808 - val_acc: 0.7500\n"
     ]
    },
    {
     "name": "stdout",
     "output_type": "stream",
     "text": [
      "Epoch 117/150\n",
      "5/5 [==============================] - ETA: 18s - loss: 0.2219 - acc: 0.90 - ETA: 13s - loss: 0.5075 - acc: 0.81 - ETA: 9s - loss: 0.4897 - acc: 0.8021 - ETA: 4s - loss: 0.4363 - acc: 0.843 - 23s 5s/step - loss: 0.4652 - acc: 0.8302 - val_loss: 0.4165 - val_acc: 0.8000\n",
      "Epoch 118/150\n",
      "5/5 [==============================] - ETA: 18s - loss: 0.4470 - acc: 0.84 - ETA: 14s - loss: 0.4256 - acc: 0.85 - ETA: 9s - loss: 0.5047 - acc: 0.8333 - ETA: 4s - loss: 0.5541 - acc: 0.796 - 23s 5s/step - loss: 0.5517 - acc: 0.8096 - val_loss: 0.6930 - val_acc: 0.8000\n",
      "Epoch 119/150\n",
      "5/5 [==============================] - ETA: 18s - loss: 0.5277 - acc: 0.87 - ETA: 14s - loss: 0.4988 - acc: 0.85 - ETA: 9s - loss: 0.3944 - acc: 0.8854 - ETA: 4s - loss: 0.3942 - acc: 0.880 - 23s 5s/step - loss: 0.4017 - acc: 0.8665 - val_loss: 0.6074 - val_acc: 0.8500\n",
      "Epoch 120/150\n",
      "5/5 [==============================] - ETA: 18s - loss: 0.2953 - acc: 0.87 - ETA: 14s - loss: 0.2258 - acc: 0.92 - ETA: 8s - loss: 0.2117 - acc: 0.9328 - ETA: 4s - loss: 0.2417 - acc: 0.918 - 23s 5s/step - loss: 0.2634 - acc: 0.9155 - val_loss: 0.4501 - val_acc: 0.8500\n",
      "Epoch 121/150\n",
      "5/5 [==============================] - ETA: 18s - loss: 0.2659 - acc: 0.93 - ETA: 11s - loss: 0.4375 - acc: 0.80 - ETA: 8s - loss: 0.4108 - acc: 0.8210 - ETA: 4s - loss: 0.3711 - acc: 0.834 - 23s 5s/step - loss: 0.3782 - acc: 0.8381 - val_loss: 0.5422 - val_acc: 0.8000\n",
      "Epoch 122/150\n",
      "5/5 [==============================] - ETA: 18s - loss: 0.4607 - acc: 0.78 - ETA: 11s - loss: 0.4341 - acc: 0.79 - ETA: 8s - loss: 0.5318 - acc: 0.7831 - ETA: 4s - loss: 0.5272 - acc: 0.790 - 3129s 626s/step - loss: 0.5373 - acc: 0.7820 - val_loss: 0.5000 - val_acc: 0.9000\n",
      "Epoch 123/150\n",
      "5/5 [==============================] - ETA: 25s - loss: 0.4425 - acc: 0.78 - ETA: 19s - loss: 0.4289 - acc: 0.79 - ETA: 12s - loss: 0.3363 - acc: 0.85 - ETA: 6s - loss: 0.3340 - acc: 0.8672 - 30s 6s/step - loss: 0.3580 - acc: 0.8665 - val_loss: 0.4363 - val_acc: 0.8000\n",
      "Epoch 124/150\n",
      "5/5 [==============================] - ETA: 19s - loss: 0.1664 - acc: 0.96 - ETA: 12s - loss: 0.2753 - acc: 0.91 - ETA: 8s - loss: 0.3206 - acc: 0.9025 - ETA: 4s - loss: 0.3019 - acc: 0.903 - 24s 5s/step - loss: 0.3709 - acc: 0.8855 - val_loss: 0.3978 - val_acc: 0.8500\n",
      "Epoch 125/150\n",
      "5/5 [==============================] - ETA: 18s - loss: 0.5183 - acc: 0.90 - ETA: 14s - loss: 0.3854 - acc: 0.90 - ETA: 9s - loss: 0.3198 - acc: 0.9271 - ETA: 4s - loss: 0.3150 - acc: 0.921 - 24s 5s/step - loss: 0.3786 - acc: 0.8760 - val_loss: 0.6755 - val_acc: 0.8000\n",
      "Epoch 126/150\n",
      "5/5 [==============================] - ETA: 18s - loss: 0.6392 - acc: 0.75 - ETA: 14s - loss: 0.6515 - acc: 0.79 - ETA: 8s - loss: 0.5058 - acc: 0.8343 - ETA: 4s - loss: 0.4772 - acc: 0.828 - 24s 5s/step - loss: 0.4834 - acc: 0.8310 - val_loss: 0.5215 - val_acc: 0.8000\n",
      "Epoch 127/150\n",
      "5/5 [==============================] - ETA: 20s - loss: 0.2349 - acc: 0.96 - ETA: 13s - loss: 0.3138 - acc: 0.89 - ETA: 9s - loss: 0.3797 - acc: 0.8561 - ETA: 4s - loss: 0.3879 - acc: 0.845 - 26s 5s/step - loss: 0.3956 - acc: 0.8452 - val_loss: 0.4427 - val_acc: 0.8000\n",
      "Epoch 128/150\n",
      "5/5 [==============================] - ETA: 19s - loss: 0.4049 - acc: 0.90 - ETA: 14s - loss: 0.3696 - acc: 0.87 - ETA: 8s - loss: 0.3377 - acc: 0.8712 - ETA: 4s - loss: 0.3772 - acc: 0.856 - 24s 5s/step - loss: 0.4197 - acc: 0.8412 - val_loss: 0.4936 - val_acc: 0.8500\n",
      "Epoch 129/150\n",
      "5/5 [==============================] - ETA: 18s - loss: 0.1809 - acc: 0.93 - ETA: 13s - loss: 0.2334 - acc: 0.90 - ETA: 9s - loss: 0.3738 - acc: 0.8750 - ETA: 4s - loss: 0.3778 - acc: 0.872 - 24s 5s/step - loss: 0.4178 - acc: 0.8476 - val_loss: 0.3873 - val_acc: 0.9000\n",
      "Epoch 130/150\n",
      "5/5 [==============================] - ETA: 20s - loss: 0.4709 - acc: 0.75 - ETA: 13s - loss: 0.4425 - acc: 0.76 - ETA: 9s - loss: 0.4282 - acc: 0.7576 - ETA: 4s - loss: 0.3937 - acc: 0.794 - 26s 5s/step - loss: 0.3813 - acc: 0.8112 - val_loss: 0.3844 - val_acc: 0.9000\n",
      "Epoch 131/150\n",
      "5/5 [==============================] - ETA: 21s - loss: 0.3179 - acc: 0.87 - ETA: 15s - loss: 0.5368 - acc: 0.78 - ETA: 10s - loss: 0.4331 - acc: 0.82 - ETA: 4s - loss: 0.4145 - acc: 0.8445 - 26s 5s/step - loss: 0.4054 - acc: 0.8689 - val_loss: 0.4845 - val_acc: 0.8500\n",
      "Epoch 132/150\n",
      "5/5 [==============================] - ETA: 20s - loss: 0.2801 - acc: 0.90 - ETA: 15s - loss: 0.3070 - acc: 0.89 - ETA: 10s - loss: 0.2956 - acc: 0.88 - ETA: 4s - loss: 0.3336 - acc: 0.8686 - 26s 5s/step - loss: 0.3510 - acc: 0.8705 - val_loss: 0.5385 - val_acc: 0.8500\n",
      "Epoch 133/150\n",
      "5/5 [==============================] - ETA: 14s - loss: 0.3660 - acc: 0.90 - ETA: 13s - loss: 0.3265 - acc: 0.90 - ETA: 9s - loss: 0.3091 - acc: 0.9176 - ETA: 4s - loss: 0.3005 - acc: 0.914 - 25s 5s/step - loss: 0.3065 - acc: 0.9068 - val_loss: 0.5806 - val_acc: 0.8000\n",
      "Epoch 134/150\n",
      "5/5 [==============================] - ETA: 20s - loss: 0.2706 - acc: 0.87 - ETA: 15s - loss: 0.2377 - acc: 0.89 - ETA: 10s - loss: 0.2821 - acc: 0.87 - ETA: 4s - loss: 0.2751 - acc: 0.8835 - 25s 5s/step - loss: 0.2838 - acc: 0.8878 - val_loss: 0.5723 - val_acc: 0.8000\n",
      "Epoch 135/150\n",
      "5/5 [==============================] - ETA: 20s - loss: 0.1571 - acc: 0.96 - ETA: 15s - loss: 0.1725 - acc: 0.95 - ETA: 10s - loss: 0.2309 - acc: 0.91 - ETA: 5s - loss: 0.2516 - acc: 0.9062 - 25s 5s/step - loss: 0.2187 - acc: 0.9242 - val_loss: 0.7136 - val_acc: 0.8500\n",
      "Epoch 136/150\n",
      "5/5 [==============================] - ETA: 20s - loss: 0.3027 - acc: 0.90 - ETA: 15s - loss: 0.3938 - acc: 0.90 - ETA: 10s - loss: 0.3084 - acc: 0.92 - ETA: 5s - loss: 0.2768 - acc: 0.9219 - 25s 5s/step - loss: 0.3499 - acc: 0.8934 - val_loss: 0.5169 - val_acc: 0.8500\n",
      "Epoch 137/150\n",
      "5/5 [==============================] - ETA: 20s - loss: 0.2861 - acc: 0.93 - ETA: 13s - loss: 0.4300 - acc: 0.83 - ETA: 9s - loss: 0.5192 - acc: 0.7633 - ETA: 4s - loss: 0.4708 - acc: 0.799 - 25s 5s/step - loss: 0.5040 - acc: 0.8089 - val_loss: 0.4078 - val_acc: 0.9000\n",
      "Epoch 138/150\n",
      "5/5 [==============================] - ETA: 13s - loss: 0.1229 - acc: 0.95 - ETA: 12s - loss: 0.1867 - acc: 0.91 - ETA: 9s - loss: 0.3061 - acc: 0.8911 - ETA: 4s - loss: 0.3375 - acc: 0.871 - 25s 5s/step - loss: 0.3095 - acc: 0.8839 - val_loss: 0.3922 - val_acc: 0.9000\n",
      "Epoch 139/150\n",
      "5/5 [==============================] - ETA: 14s - loss: 0.6295 - acc: 0.81 - ETA: 13s - loss: 0.5197 - acc: 0.84 - ETA: 9s - loss: 0.4934 - acc: 0.8561 - ETA: 4s - loss: 0.4905 - acc: 0.860 - 25s 5s/step - loss: 0.4409 - acc: 0.8768 - val_loss: 0.4652 - val_acc: 0.9000\n",
      "Epoch 140/150\n",
      "5/5 [==============================] - ETA: 18s - loss: 0.4438 - acc: 0.87 - ETA: 11s - loss: 0.4983 - acc: 0.86 - ETA: 8s - loss: 0.5889 - acc: 0.8295 - ETA: 4s - loss: 0.5276 - acc: 0.840 - 23s 5s/step - loss: 0.4531 - acc: 0.8665 - val_loss: 0.4454 - val_acc: 0.8000\n",
      "Epoch 141/150\n",
      "5/5 [==============================] - ETA: 18s - loss: 0.2464 - acc: 0.90 - ETA: 13s - loss: 0.2915 - acc: 0.90 - ETA: 9s - loss: 0.3538 - acc: 0.8854 - ETA: 4s - loss: 0.3742 - acc: 0.867 - 23s 5s/step - loss: 0.4273 - acc: 0.8491 - val_loss: 0.5225 - val_acc: 0.8000\n",
      "Epoch 142/150\n",
      "5/5 [==============================] - ETA: 18s - loss: 0.3742 - acc: 0.93 - ETA: 11s - loss: 0.3382 - acc: 0.90 - ETA: 8s - loss: 0.3051 - acc: 0.9025 - ETA: 4s - loss: 0.2817 - acc: 0.895 - 23s 5s/step - loss: 0.2757 - acc: 0.8918 - val_loss: 0.5502 - val_acc: 0.8500\n",
      "Epoch 143/150\n",
      "5/5 [==============================] - ETA: 18s - loss: 0.2958 - acc: 0.84 - ETA: 11s - loss: 0.3277 - acc: 0.83 - ETA: 8s - loss: 0.3051 - acc: 0.8456 - ETA: 4s - loss: 0.3359 - acc: 0.837 - 23s 5s/step - loss: 0.4478 - acc: 0.8073 - val_loss: 0.4496 - val_acc: 0.8000\n",
      "Epoch 144/150\n",
      "5/5 [==============================] - ETA: 18s - loss: 0.1541 - acc: 0.96 - ETA: 11s - loss: 0.2086 - acc: 0.91 - ETA: 8s - loss: 0.2658 - acc: 0.8920 - ETA: 4s - loss: 0.3059 - acc: 0.887 - 23s 5s/step - loss: 0.3074 - acc: 0.8791 - val_loss: 0.4779 - val_acc: 0.8500\n",
      "Epoch 145/150\n",
      "5/5 [==============================] - ETA: 18s - loss: 0.0993 - acc: 1.00 - ETA: 13s - loss: 0.1855 - acc: 0.95 - ETA: 8s - loss: 0.1595 - acc: 0.9536 - ETA: 4s - loss: 0.2276 - acc: 0.918 - 23s 5s/step - loss: 0.2318 - acc: 0.9218 - val_loss: 0.3661 - val_acc: 0.8500\n"
     ]
    },
    {
     "name": "stdout",
     "output_type": "stream",
     "text": [
      "Epoch 146/150\n",
      "5/5 [==============================] - ETA: 18s - loss: 0.2335 - acc: 0.90 - ETA: 14s - loss: 0.2379 - acc: 0.93 - ETA: 8s - loss: 0.1958 - acc: 0.9432 - ETA: 4s - loss: 0.2487 - acc: 0.918 - 23s 5s/step - loss: 0.2637 - acc: 0.9092 - val_loss: 0.4391 - val_acc: 0.9000\n",
      "Epoch 147/150\n",
      "5/5 [==============================] - ETA: 12s - loss: 0.2288 - acc: 0.90 - ETA: 11s - loss: 0.2170 - acc: 0.89 - ETA: 8s - loss: 0.1928 - acc: 0.9072 - ETA: 4s - loss: 0.2435 - acc: 0.899 - 24s 5s/step - loss: 0.2677 - acc: 0.8815 - val_loss: 0.6781 - val_acc: 0.9500\n",
      "Epoch 148/150\n",
      "5/5 [==============================] - ETA: 18s - loss: 0.3749 - acc: 0.90 - ETA: 11s - loss: 0.4360 - acc: 0.88 - ETA: 8s - loss: 0.4396 - acc: 0.8712 - ETA: 4s - loss: 0.4395 - acc: 0.864 - 23s 5s/step - loss: 0.4210 - acc: 0.8539 - val_loss: 0.4500 - val_acc: 0.9000\n",
      "Epoch 149/150\n",
      "5/5 [==============================] - ETA: 12s - loss: 0.5009 - acc: 0.86 - ETA: 11s - loss: 0.3628 - acc: 0.90 - ETA: 8s - loss: 0.3281 - acc: 0.9025 - ETA: 4s - loss: 0.2792 - acc: 0.911 - 23s 5s/step - loss: 0.2632 - acc: 0.9171 - val_loss: 0.4280 - val_acc: 0.9000\n",
      "Epoch 150/150\n",
      "5/5 [==============================] - ETA: 12s - loss: 0.3578 - acc: 0.81 - ETA: 12s - loss: 0.2962 - acc: 0.86 - ETA: 8s - loss: 0.2899 - acc: 0.8665 - ETA: 4s - loss: 0.2963 - acc: 0.876 - 23s 5s/step - loss: 0.3519 - acc: 0.8705 - val_loss: 0.3428 - val_acc: 0.8500\n"
     ]
    }
   ],
   "source": [
    "from keras.preprocessing.image import ImageDataGenerator\n",
    " \n",
    "model = createModel()\n",
    " \n",
    "model.compile(optimizer='rmsprop', loss='categorical_crossentropy', metrics=['accuracy'])\n",
    " \n",
    "batch_size = 32\n",
    "epochs = 150\n",
    "datagen = ImageDataGenerator(\n",
    "                             zoom_range=0.2,          # randomly zoom into images\n",
    "                             rotation_range=10,       # randomly rotate images in the range (degrees, 0 to 180)\n",
    "                             width_shift_range=0.1,   # randomly shift images horizontally (fraction of total width)\n",
    "                             height_shift_range=0.1,  # randomly shift images vertically (fraction of total height)\n",
    "                             horizontal_flip=True,    # randomly flip images\n",
    "                             vertical_flip=False)     # randomly flip images\n",
    " \n",
    "                                 # Fit the model on the batches generated by datagen.flow().\n",
    "history= model.fit_generator(datagen.flow(train_x, train_y, batch_size=batch_size),\n",
    "                              steps_per_epoch=int(np.ceil(train_x.shape[0] / float(batch_size))),\n",
    "                              epochs=epochs,\n",
    "                              validation_data=(test_x, test_y ),\n",
    "                              workers=4)\n",
    " \n"
   ]
  },
  {
   "cell_type": "code",
   "execution_count": 32,
   "metadata": {},
   "outputs": [
    {
     "name": "stdout",
     "output_type": "stream",
     "text": [
      "20/20 [==============================] - 1s 64ms/step\n"
     ]
    },
    {
     "data": {
      "text/plain": [
       "85.000002384185791"
      ]
     },
     "execution_count": 32,
     "metadata": {},
     "output_type": "execute_result"
    }
   ],
   "source": [
    "test_loss, test_acc= model.evaluate(test_x,test_y)\n",
    "\n",
    "test_acc*100\n"
   ]
  },
  {
   "cell_type": "code",
   "execution_count": 33,
   "metadata": {},
   "outputs": [
    {
     "data": {
      "image/png": "[encoded data removed]",
      "text/plain": [
       "<Figure size 432x288 with 2 Axes>"
      ]
     },
     "metadata": {
      "needs_background": "light"
     },
     "output_type": "display_data"
    }
   ],
   "source": [
    "fig, ax = plt.subplots(2,1)\n",
    "ax[0].plot(history.history['loss'], color='b', label=\"Training loss\")\n",
    "ax[0].plot(history.history['val_loss'], color='r', label=\"validation loss\",axes =ax[0])\n",
    "legend = ax[0].legend(loc='best', shadow=True)\n",
    "\n",
    "ax[1].plot(history.history['acc'], color='b', label=\"Training accuracy\")\n",
    "ax[1].plot(history.history['val_acc'], color='r',label=\"Validation accuracy\")\n",
    "legend = ax[1].legend(loc='best', shadow=True)"
   ]
  },
  {
   "cell_type": "markdown",
   "metadata": {},
   "source": [
    "### 6. Test image on new images"
   ]
  },
  {
   "cell_type": "markdown",
   "metadata": {},
   "source": [
    "So model is 85% accurate .Let see whether it can recognize new images or not. i download 5 different image of actress and actor from google."
   ]
  },
  {
   "cell_type": "code",
   "execution_count": 37,
   "metadata": {},
   "outputs": [
    {
     "data": {
      "text/plain": [
       "<matplotlib.image.AxesImage at 0xca81364198>"
      ]
     },
     "execution_count": 37,
     "metadata": {},
     "output_type": "execute_result"
    },
    {
     "data": {
      "image/png": "[encoded data removed]",
      "text/plain": [
       "<Figure size 432x288 with 1 Axes>"
      ]
     },
     "metadata": {
      "needs_background": "light"
     },
     "output_type": "display_data"
    }
   ],
   "source": [
    "img_1 = crop_face('new-aishwarya.jpg')\n",
    "img_2 = crop_face('new-alia.jpg')\n",
    "img_3 = crop_face('new-amitabh.jpg')\n",
    "img_4 = crop_face('new-salman.jpg')\n",
    "img_5 = crop_face('new-shahrukh.jpg')\n",
    "img_1=resize_image(img_1)\n",
    "img_2=resize_image(img_2)\n",
    "img_3=resize_image(img_3)\n",
    "img_4=resize_image(img_4)\n",
    "img_5=resize_image(img_5)\n",
    "plt.imshow(img_3)"
   ]
  },
  {
   "cell_type": "code",
   "execution_count": 38,
   "metadata": {},
   "outputs": [],
   "source": [
    "new_features = [img_1,img_2,img_3,img_4,img_5]\n",
    "px_train_data = np.array(new_features, np.float32) / 255.   # /= 255 for normolisation\n",
    "px_train_data = np.expand_dims(px_train_data, axis = 3)"
   ]
  },
  {
   "cell_type": "code",
   "execution_count": 39,
   "metadata": {},
   "outputs": [
    {
     "data": {
      "text/plain": [
       "array([0, 1, 2, 3, 4], dtype=int64)"
      ]
     },
     "execution_count": 39,
     "metadata": {},
     "output_type": "execute_result"
    }
   ],
   "source": [
    "predictions=model.predict(px_train_data, batch_size=None, verbose=0, steps=None)\n",
    "np.argmax(predictions, axis=1)"
   ]
  },
  {
   "cell_type": "markdown",
   "metadata": {},
   "source": [
    "Wow! model recognize all the images correctly\n",
    "\n",
    "0- Aishwarya \n",
    "1- Alia \n",
    "2- Amitabh\n",
    "3- Salman\n",
    "4- Shahrukh"
   ]
  }
 ],
 "metadata": {
  "kernelspec": {
   "display_name": "Python 3",
   "language": "python",
   "name": "python3"
  },
  "language_info": {
   "codemirror_mode": {
    "name": "ipython",
    "version": 3
   },
   "file_extension": ".py",
   "mimetype": "text/x-python",
   "name": "python",
   "nbconvert_exporter": "python",
   "pygments_lexer": "ipython3",
   "version": "3.6.6"
  }
 },
 "nbformat": 4,
 "nbformat_minor": 2
}
